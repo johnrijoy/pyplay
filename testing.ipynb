{
 "cells": [
  {
   "attachments": {},
   "cell_type": "markdown",
   "metadata": {},
   "source": [
    "# Main"
   ]
  },
  {
   "attachments": {},
   "cell_type": "markdown",
   "metadata": {},
   "source": [
    "## All Imports"
   ]
  },
  {
   "cell_type": "code",
   "execution_count": 1,
   "metadata": {},
   "outputs": [],
   "source": [
    "from player import PlaybackController\n",
    "from youtube_search import YoutubeSearch\n",
    "import pafy\n",
    "from fetcher import *\n",
    "import vlc"
   ]
  },
  {
   "cell_type": "code",
   "execution_count": 2,
   "metadata": {},
   "outputs": [
    {
     "name": "stdout",
     "output_type": "stream",
     "text": [
      "Init musicPlay Object\n"
     ]
    }
   ],
   "source": [
    "player = PlaybackController()"
   ]
  },
  {
   "attachments": {},
   "cell_type": "markdown",
   "metadata": {},
   "source": [
    "## Audio selection"
   ]
  },
  {
   "cell_type": "code",
   "execution_count": 2,
   "metadata": {},
   "outputs": [
    {
     "data": {
      "text/plain": [
       "'3 Second Video'"
      ]
     },
     "execution_count": 2,
     "metadata": {},
     "output_type": "execute_result"
    }
   ],
   "source": [
    "audio = get_song(\"3 sec\")\n",
    "\n",
    "audio.title"
   ]
  },
  {
   "cell_type": "code",
   "execution_count": 4,
   "metadata": {},
   "outputs": [],
   "source": [
    "player.append_song(audio)"
   ]
  },
  {
   "cell_type": "code",
   "execution_count": 3,
   "metadata": {},
   "outputs": [
    {
     "data": {
      "text/plain": [
       "< song: 'Vettah | Raavu Maayave Lyric Video | Kunchacko Boban, Manju Warrier | Rinu Razak, Shaan Rahman | HD' duration: 4m50s >"
      ]
     },
     "execution_count": 3,
     "metadata": {},
     "output_type": "execute_result"
    }
   ],
   "source": [
    "audio = get_song(\"Raav mayave\")\n",
    "audio"
   ]
  },
  {
   "cell_type": "code",
   "execution_count": 12,
   "metadata": {},
   "outputs": [],
   "source": [
    "player.append_song(audio)"
   ]
  },
  {
   "attachments": {},
   "cell_type": "markdown",
   "metadata": {},
   "source": [
    "## Playback Control"
   ]
  },
  {
   "cell_type": "code",
   "execution_count": 7,
   "metadata": {},
   "outputs": [],
   "source": [
    "player.start_playback()"
   ]
  },
  {
   "cell_type": "code",
   "execution_count": 21,
   "metadata": {},
   "outputs": [],
   "source": [
    "player.pause_resume()"
   ]
  },
  {
   "cell_type": "code",
   "execution_count": 5,
   "metadata": {},
   "outputs": [
    {
     "data": {
      "text/plain": [
       "[< song: '3 Second Video' >]"
      ]
     },
     "execution_count": 5,
     "metadata": {},
     "output_type": "execute_result"
    }
   ],
   "source": [
    "player.songQ"
   ]
  },
  {
   "cell_type": "code",
   "execution_count": 18,
   "metadata": {},
   "outputs": [
    {
     "name": "stdout",
     "output_type": "stream",
     "text": [
      "< song: 'Vettah | Raavu Maayave Lyric Video | Kunchacko Boban, Manju Warrier | Rinu Razak, Shaan Rahman | HD' playing: 0m0s--0m20s--4m50s >\n"
     ]
    }
   ],
   "source": [
    "print(player.audio_state)"
   ]
  },
  {
   "cell_type": "code",
   "execution_count": 16,
   "metadata": {},
   "outputs": [
    {
     "data": {
      "text/plain": [
       "2"
      ]
     },
     "execution_count": 16,
     "metadata": {},
     "output_type": "execute_result"
    }
   ],
   "source": [
    "player.mediaList.count()"
   ]
  },
  {
   "cell_type": "code",
   "execution_count": 10,
   "metadata": {},
   "outputs": [
    {
     "data": {
      "text/plain": [
       "vlc.State.Ended"
      ]
     },
     "execution_count": 10,
     "metadata": {},
     "output_type": "execute_result"
    }
   ],
   "source": [
    "player.check_player_state()"
   ]
  },
  {
   "cell_type": "code",
   "execution_count": null,
   "metadata": {},
   "outputs": [],
   "source": [
    "player.check_player_state() == vlc.State.Stopped"
   ]
  },
  {
   "cell_type": "code",
   "execution_count": null,
   "metadata": {},
   "outputs": [],
   "source": [
    "mplayer = player.get_player_debug()\n",
    "mplayer"
   ]
  },
  {
   "cell_type": "code",
   "execution_count": null,
   "metadata": {},
   "outputs": [],
   "source": [
    "mediaPlay = mplayer.get_media_player()"
   ]
  },
  {
   "cell_type": "code",
   "execution_count": null,
   "metadata": {},
   "outputs": [],
   "source": [
    "curr_time = \"{}m{}s\".format(mediaPlay.get_time()//60000, (mediaPlay.get_time()//1000)%60)\n",
    "tot_time = \"{}m{}s\".format(mediaPlay.get_length()//60000, (mediaPlay.get_length()//1000)%60)\n",
    "\n",
    "print(curr_time + \" - \" + tot_time)"
   ]
  },
  {
   "cell_type": "code",
   "execution_count": null,
   "metadata": {},
   "outputs": [],
   "source": [
    "media_used = mediaPlay.get_media()"
   ]
  },
  {
   "cell_type": "code",
   "execution_count": 18,
   "metadata": {},
   "outputs": [
    {
     "data": {
      "text/plain": [
       "True"
      ]
     },
     "execution_count": 18,
     "metadata": {},
     "output_type": "execute_result"
    }
   ],
   "source": [
    "player.skip_song()"
   ]
  },
  {
   "cell_type": "code",
   "execution_count": null,
   "metadata": {},
   "outputs": [],
   "source": [
    "player.check_index"
   ]
  },
  {
   "cell_type": "code",
   "execution_count": 13,
   "metadata": {},
   "outputs": [
    {
     "data": {
      "text/plain": [
       "0"
      ]
     },
     "execution_count": 13,
     "metadata": {},
     "output_type": "execute_result"
    }
   ],
   "source": [
    "player.audio_state.track_index"
   ]
  },
  {
   "cell_type": "code",
   "execution_count": 20,
   "metadata": {},
   "outputs": [],
   "source": [
    "player.stop_playback()"
   ]
  },
  {
   "attachments": {},
   "cell_type": "markdown",
   "metadata": {},
   "source": [
    "# Additional Utils"
   ]
  },
  {
   "cell_type": "code",
   "execution_count": 20,
   "metadata": {},
   "outputs": [],
   "source": [
    "import requests"
   ]
  },
  {
   "cell_type": "code",
   "execution_count": 22,
   "metadata": {},
   "outputs": [
    {
     "data": {
      "text/plain": [
       "'https://pipedapi.kavin.rocks/streams/QQTSs0qeHyw'"
      ]
     },
     "execution_count": 22,
     "metadata": {},
     "output_type": "execute_result"
    }
   ],
   "source": [
    "piped_url = \"https://pipedapi.kavin.rocks/streams/\" + audio.id\n",
    "piped_url"
   ]
  },
  {
   "cell_type": "code",
   "execution_count": null,
   "metadata": {},
   "outputs": [],
   "source": [
    "yt_vid = pafy.new(audio['url'])\n",
    "yt_vid"
   ]
  },
  {
   "cell_type": "code",
   "execution_count": 23,
   "metadata": {},
   "outputs": [
    {
     "data": {
      "text/plain": [
       "200"
      ]
     },
     "execution_count": 23,
     "metadata": {},
     "output_type": "execute_result"
    }
   ],
   "source": [
    "resp = requests.get(piped_url)\n",
    "resp.status_code"
   ]
  },
  {
   "attachments": {},
   "cell_type": "markdown",
   "metadata": {},
   "source": [
    "## Piped Output"
   ]
  },
  {
   "cell_type": "code",
   "execution_count": 24,
   "metadata": {},
   "outputs": [
    {
     "data": {
      "text/plain": [
       "{'title': 'Vettah | Raavu Maayave Lyric Video | Kunchacko Boban, Manju Warrier | Rinu Razak, Shaan Rahman | HD',\n",
       " 'description': 'Watch the Lyric Video of the beautiful melody \"Raavu Maayave\" from Vettah - the Malayalam psychological thriller starring Kunchacko Boban, Manju Warrier, Indrajith Sukumaran and Sandhya in lead roles. <br><br>Directed By - Rajesh Pillai<br>Produced by - Haneef Mohammed under the banner \\'Red Rose Creations\\' in association with \\'Rajesh Pillai Films\\'<br>Music Composed and Programmed by - Shaan Rahman <br>Sung by - Rinu Razak and Shaan Rahman<br>Lyrics by - Manu Manjith <br>Hindi Lyrics by - Shan Johnson<br>Cinematography by - Anishlal RS<br>Scripted By - Arunlal Ramachandran <br>Edited by - Abhilash Balachandran <br>Song Mixed and Mastered by - Biju James at VGP Studios, Chennai<br>Music on - Muzik247<br><br>Raavu Mayave<br>Idea (Dialer Tone) - Dial 567897318983<br>Vodafone (Callertune) - Dial 5377318983<br>BSNL (BsnlTune) - SMS BT 7318983 to 56700<br>Airtel (HelloTune) - Dial 5432115260938<br><br>Also listen to this song and more on:<br>Gaana: <a href=\"http://bit.ly/1okqxss\">http://bit.ly/1okqxss</a><br>Saavn: <a href=\"http://bit.ly/1SwxrG1\">http://bit.ly/1SwxrG1</a><br>iTunes: <a href=\"http://apple.co/1WTeBsu\">http://apple.co/1WTeBsu</a><br>Wynk: <a href=\"http://bit.ly/2F7ha82\">http://bit.ly/2F7ha82</a><br>Jio: <a href=\"http://bit.ly/2F5vA8u\">http://bit.ly/2F5vA8u</a><br>Idea Music Lounge: <a href=\"http://bit.ly/2F4bziA\">http://bit.ly/2F4bziA</a><br><br><br><br><br>🔔 Get alerts when we release any new video. TURN ON THE BELL ICON on the channel! 🔔<br><br>SUBSCRIBE for more: <a href=\"http://bit.ly/2sw1fP6\">http://bit.ly/2sw1fP6</a><br><br>For Latest Video songs, click: <a href=\"http://bit.ly/2nxZ0pt\">http://bit.ly/2nxZ0pt</a><br>For Compilations and Playlists, click: <a href=\"http://bit.ly/2nuWsZj\">http://bit.ly/2nuWsZj</a><br>For Most popular videos, click: <a href=\"http://bit.ly/2nuYyZb\">http://bit.ly/2nuYyZb</a><br>For Latest Short films: <a href=\"http://bit.ly/2nuuHA6\">http://bit.ly/2nuuHA6</a><br>For Latest Trailers and Teasers: <a href=\"http://bit.ly/2nwTXWl\">http://bit.ly/2nwTXWl</a><br><br>Connect with us on:<br>♦ YouTube &nbsp; &nbsp; &nbsp; &nbsp;: <a href=\"http://bit.ly/2sw1fP6\">http://bit.ly/2sw1fP6</a><br>♦ Facebook &nbsp; &nbsp; &nbsp;: <a href=\"https://www.facebook.com/muzik247in\">https://www.facebook.com/muzik247in</a><br>♦ Twitter &nbsp; &nbsp; &nbsp; &nbsp; &nbsp; : <a href=\"https://twitter.com/Muzik247in\">https://twitter.com/Muzik247in</a><br>♦ Instagram &nbsp; &nbsp; : <a href=\"https://bit.ly/2ixZwA7\">https://bit.ly/2ixZwA7</a><br>♦ G+ &nbsp; &nbsp; &nbsp; &nbsp; &nbsp; &nbsp; &nbsp; &nbsp; &nbsp;: <a href=\"https://bit.ly/1QZtI3c\">https://bit.ly/1QZtI3c</a><br><br>Subscribe on LINE APP. <br><a href=\"https://line.me/ti/p/%40muzik247\">https://line.me/ti/p/%40muzik247</a><br><br>Add us on WeChat. <br><a href=\"http://goo.gl/71MFLV\">http://goo.gl/71MFLV</a><br><br>* ANTI-PIRACY WARNING *<br>This content is Copyright to Muzik247. Any unauthorized reproduction, redistribution or re-upload is strictly prohibited of this material. Legal action will be taken against those who violate the copyright of the following material presented!<br><br>Malayalam Film songs | Malayalam Movie songs | Malayalam songs | Malayalam music | Malayalam Cinema | Malayalam Latest songs | Malayalam latest hits | Malayalam Latest songs | Malayalam latest music',\n",
       " 'uploadDate': '2018-05-14',\n",
       " 'uploader': 'Muzik247',\n",
       " 'uploaderUrl': '/channel/UChRi1dpwnsZcIo1LSwzY0Iw',\n",
       " 'uploaderAvatar': 'https://pipedproxy.kavin.rocks/vi9ISqnoFfpa1J7WQMxxs2YKkhCh2mLy4DMRh9wqOre1VZ4DdLGGBDxMjUtHzCNqRySnZ0LqjOM=s48-c-k-c0x00ffffff-no-rw?host=yt3.ggpht.com',\n",
       " 'thumbnailUrl': 'https://pipedproxy.kavin.rocks/vi_webp/QQTSs0qeHyw/maxresdefault.webp?host=i.ytimg.com',\n",
       " 'hls': 'https://pipedproxy-cwl.kavin.rocks/api/manifest/hls_variant/expire/1685233950/ei/vkxyZKDlLOTHxgLOv46QBw/ip/129.151.90.107/id/4104d2b34a9e1f2c/source/youtube/requiressl/yes/playback_host/rr1---sn-5hnekn7l.googlevideo.com/mh/5h/mm/31%2C26/mn/sn-5hnekn7l%2Csn-25glenlk/ms/au%2Conr/mv/m/mvi/1/pl/25/hfr/1/demuxed/1/tts_caps/1/maudio/1/initcwndbps/461250/vprv/1/go/1/mt/1685212133/fvip/2/nvgoi/1/short_key/1/ncsapi/1/keepalive/yes/fexp/24007246%2C51000023/dover/13/itag/0/playlist_type/DVR/sparams/expire%2Cei%2Cip%2Cid%2Csource%2Crequiressl%2Chfr%2Cdemuxed%2Ctts_caps%2Cmaudio%2Cvprv%2Cgo%2Citag%2Cplaylist_type/sig/AOq0QJ8wRgIhAKE4G3j2vul7FVp7ZYzlrVojdUHfcpc99Hyvl7nlKL9yAiEAvzoVhcjZuAvpeDHzq4o4aXzYD3w89MqURYNqD_6doj0%3D/lsparams/playback_host%2Cmh%2Cmm%2Cmn%2Cms%2Cmv%2Cmvi%2Cpl%2Cinitcwndbps/lsig/AG3C_xAwRAIgdEqzW-wNk5dm9SjWqkHP6-uK7JY3uAuVS3Fj7qCy5zYCIG-3pZf4lxvZ2zSGstUJXiyEfN9Gwibv3lHxPZ5qAZWk/file/index.m3u8?host=manifest.googlevideo.com',\n",
       " 'dash': None,\n",
       " 'lbryId': None,\n",
       " 'category': 'Music',\n",
       " 'uploaderVerified': True,\n",
       " 'duration': 290,\n",
       " 'views': 3203057,\n",
       " 'likes': 15240,\n",
       " 'dislikes': 479,\n",
       " 'uploaderSubscriberCount': 5680000,\n",
       " 'audioStreams': [{'url': 'https://pipedproxy-cwl.kavin.rocks/videoplayback?expire=1685233950&ei=vkxyZLvxLI66W9Ong9AJ&ip=129.151.90.107&id=o-ANrn99z9AcuoHsMk74K5dIAWxlGEWeOkMbN60hn1VagF&itag=139&source=youtube&requiressl=yes&mh=5h&mm=31%2C29&mn=sn-5hnekn7l%2Csn-5hne6nsk&ms=au%2Crdu&mv=m&mvi=1&pl=25&initcwndbps=461250&spc=qEK7BznSCzV86NQsLYwmaayyqa1JxXo&vprv=1&svpuc=1&mime=audio%2Fmp4&gir=yes&clen=1769702&dur=290.063&lmt=1577240131936722&mt=1685212133&fvip=5&keepalive=yes&fexp=24007246%2C24363393&beids=24350017&c=ANDROID&txp=5431432&sparams=expire%2Cei%2Cip%2Cid%2Citag%2Csource%2Crequiressl%2Cspc%2Cvprv%2Csvpuc%2Cmime%2Cgir%2Cclen%2Cdur%2Clmt&sig=AOq0QJ8wRQIgF_vj4Ip6KRiAqTA6rprUztsLRIvoimjqXUFbTE7uYHICIQC1-cNG0KSJNX45rVp8A0hsEDcle-LUAg8ThQUlcFNUiw%3D%3D&lsparams=mh%2Cmm%2Cmn%2Cms%2Cmv%2Cmvi%2Cpl%2Cinitcwndbps&lsig=AG3C_xAwRQIhAL0v8E5QMN1-dRGlWQDYuAHcGoFCV3bhaadne3MR7-SDAiAyg3rX8_G1q0saPi0isMznccjQo_lqrEqwEgSKgutP_Q%3D%3D&cpn=pS53S7dBNpQF8zzN&host=rr1---sn-5hnekn7l.googlevideo.com',\n",
       "   'format': 'M4A',\n",
       "   'quality': '48 kbps',\n",
       "   'mimeType': 'audio/mp4',\n",
       "   'codec': 'mp4a.40.5',\n",
       "   'audioTrackId': None,\n",
       "   'audioTrackName': None,\n",
       "   'audioTrackType': None,\n",
       "   'audioTrackLocale': None,\n",
       "   'videoOnly': False,\n",
       "   'bitrate': 50059,\n",
       "   'initStart': 0,\n",
       "   'initEnd': 640,\n",
       "   'indexStart': 641,\n",
       "   'indexEnd': 1032,\n",
       "   'width': 0,\n",
       "   'height': 0,\n",
       "   'fps': 0,\n",
       "   'contentLength': 1769702},\n",
       "  {'url': 'https://pipedproxy-cwl.kavin.rocks/videoplayback?expire=1685233950&ei=vkxyZLvxLI66W9Ong9AJ&ip=129.151.90.107&id=o-ANrn99z9AcuoHsMk74K5dIAWxlGEWeOkMbN60hn1VagF&itag=140&source=youtube&requiressl=yes&mh=5h&mm=31%2C29&mn=sn-5hnekn7l%2Csn-5hne6nsk&ms=au%2Crdu&mv=m&mvi=1&pl=25&initcwndbps=461250&spc=qEK7BznSCzV86NQsLYwmaayyqa1JxXo&vprv=1&svpuc=1&mime=audio%2Fmp4&gir=yes&clen=4694049&dur=289.970&lmt=1577240129468652&mt=1685212133&fvip=5&keepalive=yes&fexp=24007246%2C24363393&beids=24350017&c=ANDROID&txp=5431432&sparams=expire%2Cei%2Cip%2Cid%2Citag%2Csource%2Crequiressl%2Cspc%2Cvprv%2Csvpuc%2Cmime%2Cgir%2Cclen%2Cdur%2Clmt&sig=AOq0QJ8wRgIhAPSYMes-3iheOJc7oSxnizxPxUn4fDPZ7MzbDHZFhHHqAiEApCIqfAAPzZVHKO-eN-lCLIu06yFLHDyyP_KjdotVru8%3D&lsparams=mh%2Cmm%2Cmn%2Cms%2Cmv%2Cmvi%2Cpl%2Cinitcwndbps&lsig=AG3C_xAwRQIhAL0v8E5QMN1-dRGlWQDYuAHcGoFCV3bhaadne3MR7-SDAiAyg3rX8_G1q0saPi0isMznccjQo_lqrEqwEgSKgutP_Q%3D%3D&cpn=pS53S7dBNpQF8zzN&host=rr1---sn-5hnekn7l.googlevideo.com',\n",
       "   'format': 'M4A',\n",
       "   'quality': '126 kbps',\n",
       "   'mimeType': 'audio/mp4',\n",
       "   'codec': 'mp4a.40.2',\n",
       "   'audioTrackId': None,\n",
       "   'audioTrackName': None,\n",
       "   'audioTrackType': None,\n",
       "   'audioTrackLocale': None,\n",
       "   'videoOnly': False,\n",
       "   'bitrate': 132210,\n",
       "   'initStart': 0,\n",
       "   'initEnd': 631,\n",
       "   'indexStart': 632,\n",
       "   'indexEnd': 1023,\n",
       "   'width': 0,\n",
       "   'height': 0,\n",
       "   'fps': 0,\n",
       "   'contentLength': 4694049},\n",
       "  {'url': 'https://pipedproxy-cwl.kavin.rocks/videoplayback?expire=1685233950&ei=vkxyZLvxLI66W9Ong9AJ&ip=129.151.90.107&id=o-ANrn99z9AcuoHsMk74K5dIAWxlGEWeOkMbN60hn1VagF&itag=249&source=youtube&requiressl=yes&mh=5h&mm=31%2C29&mn=sn-5hnekn7l%2Csn-5hne6nsk&ms=au%2Crdu&mv=m&mvi=1&pl=25&initcwndbps=461250&spc=qEK7BznSCzV86NQsLYwmaayyqa1JxXo&vprv=1&svpuc=1&mime=audio%2Fwebm&gir=yes&clen=1958007&dur=289.941&lmt=1577240125485873&mt=1685212133&fvip=5&keepalive=yes&fexp=24007246%2C24363393&beids=24350017&c=ANDROID&txp=5431432&sparams=expire%2Cei%2Cip%2Cid%2Citag%2Csource%2Crequiressl%2Cspc%2Cvprv%2Csvpuc%2Cmime%2Cgir%2Cclen%2Cdur%2Clmt&sig=AOq0QJ8wRAIgB0MKP_G1s7izpmeZ5Ma6SWgZqnRybY-__i7cymZYjzMCIC-QcfoHlZ121OTmalUnQ1Bx_YtxQgNOab_eaNxHGLus&lsparams=mh%2Cmm%2Cmn%2Cms%2Cmv%2Cmvi%2Cpl%2Cinitcwndbps&lsig=AG3C_xAwRQIhAL0v8E5QMN1-dRGlWQDYuAHcGoFCV3bhaadne3MR7-SDAiAyg3rX8_G1q0saPi0isMznccjQo_lqrEqwEgSKgutP_Q%3D%3D&cpn=pS53S7dBNpQF8zzN&host=rr1---sn-5hnekn7l.googlevideo.com',\n",
       "   'format': 'WEBMA_OPUS',\n",
       "   'quality': '53 kbps',\n",
       "   'mimeType': 'audio/webm',\n",
       "   'codec': 'opus',\n",
       "   'audioTrackId': None,\n",
       "   'audioTrackName': None,\n",
       "   'audioTrackType': None,\n",
       "   'audioTrackLocale': None,\n",
       "   'videoOnly': False,\n",
       "   'bitrate': 58956,\n",
       "   'initStart': 0,\n",
       "   'initEnd': 265,\n",
       "   'indexStart': 266,\n",
       "   'indexEnd': 755,\n",
       "   'width': 0,\n",
       "   'height': 0,\n",
       "   'fps': 0,\n",
       "   'contentLength': 1958007},\n",
       "  {'url': 'https://pipedproxy-cwl.kavin.rocks/videoplayback?expire=1685233950&ei=vkxyZLvxLI66W9Ong9AJ&ip=129.151.90.107&id=o-ANrn99z9AcuoHsMk74K5dIAWxlGEWeOkMbN60hn1VagF&itag=250&source=youtube&requiressl=yes&mh=5h&mm=31%2C29&mn=sn-5hnekn7l%2Csn-5hne6nsk&ms=au%2Crdu&mv=m&mvi=1&pl=25&initcwndbps=461250&spc=qEK7BznSCzV86NQsLYwmaayyqa1JxXo&vprv=1&svpuc=1&mime=audio%2Fwebm&gir=yes&clen=2586329&dur=289.941&lmt=1577240125994046&mt=1685212133&fvip=5&keepalive=yes&fexp=24007246%2C24363393&beids=24350017&c=ANDROID&txp=5431432&sparams=expire%2Cei%2Cip%2Cid%2Citag%2Csource%2Crequiressl%2Cspc%2Cvprv%2Csvpuc%2Cmime%2Cgir%2Cclen%2Cdur%2Clmt&sig=AOq0QJ8wRQIhAIdAsFN1uZ5IFvgyuWn5Xd0n9MBVDJjrt9n1Pfds71vPAiBan2XfAKOOkHcAiv8DRbLN8RoUIHUH5OmlOfP-WuoILA%3D%3D&lsparams=mh%2Cmm%2Cmn%2Cms%2Cmv%2Cmvi%2Cpl%2Cinitcwndbps&lsig=AG3C_xAwRQIhAL0v8E5QMN1-dRGlWQDYuAHcGoFCV3bhaadne3MR7-SDAiAyg3rX8_G1q0saPi0isMznccjQo_lqrEqwEgSKgutP_Q%3D%3D&cpn=pS53S7dBNpQF8zzN&host=rr1---sn-5hnekn7l.googlevideo.com',\n",
       "   'format': 'WEBMA_OPUS',\n",
       "   'quality': '70 kbps',\n",
       "   'mimeType': 'audio/webm',\n",
       "   'codec': 'opus',\n",
       "   'audioTrackId': None,\n",
       "   'audioTrackName': None,\n",
       "   'audioTrackType': None,\n",
       "   'audioTrackLocale': None,\n",
       "   'videoOnly': False,\n",
       "   'bitrate': 77199,\n",
       "   'initStart': 0,\n",
       "   'initEnd': 265,\n",
       "   'indexStart': 266,\n",
       "   'indexEnd': 755,\n",
       "   'width': 0,\n",
       "   'height': 0,\n",
       "   'fps': 0,\n",
       "   'contentLength': 2586329},\n",
       "  {'url': 'https://pipedproxy-cwl.kavin.rocks/videoplayback?expire=1685233950&ei=vkxyZLvxLI66W9Ong9AJ&ip=129.151.90.107&id=o-ANrn99z9AcuoHsMk74K5dIAWxlGEWeOkMbN60hn1VagF&itag=251&source=youtube&requiressl=yes&mh=5h&mm=31%2C29&mn=sn-5hnekn7l%2Csn-5hne6nsk&ms=au%2Crdu&mv=m&mvi=1&pl=25&initcwndbps=461250&spc=qEK7BznSCzV86NQsLYwmaayyqa1JxXo&vprv=1&svpuc=1&mime=audio%2Fwebm&gir=yes&clen=5057647&dur=289.941&lmt=1577240126850205&mt=1685212133&fvip=5&keepalive=yes&fexp=24007246%2C24363393&beids=24350017&c=ANDROID&txp=5431432&sparams=expire%2Cei%2Cip%2Cid%2Citag%2Csource%2Crequiressl%2Cspc%2Cvprv%2Csvpuc%2Cmime%2Cgir%2Cclen%2Cdur%2Clmt&sig=AOq0QJ8wRgIhAJQITip0DGNeGJGw1TErLITGJ987bL4XQwkfGkso9xIRAiEA4rGSVx24quWI3JKfN6d7awY6tnzUjuLcgVBu_UH4xiQ%3D&lsparams=mh%2Cmm%2Cmn%2Cms%2Cmv%2Cmvi%2Cpl%2Cinitcwndbps&lsig=AG3C_xAwRQIhAL0v8E5QMN1-dRGlWQDYuAHcGoFCV3bhaadne3MR7-SDAiAyg3rX8_G1q0saPi0isMznccjQo_lqrEqwEgSKgutP_Q%3D%3D&cpn=pS53S7dBNpQF8zzN&host=rr1---sn-5hnekn7l.googlevideo.com',\n",
       "   'format': 'WEBMA_OPUS',\n",
       "   'quality': '136 kbps',\n",
       "   'mimeType': 'audio/webm',\n",
       "   'codec': 'opus',\n",
       "   'audioTrackId': None,\n",
       "   'audioTrackName': None,\n",
       "   'audioTrackType': None,\n",
       "   'audioTrackLocale': None,\n",
       "   'videoOnly': False,\n",
       "   'bitrate': 148012,\n",
       "   'initStart': 0,\n",
       "   'initEnd': 265,\n",
       "   'indexStart': 266,\n",
       "   'indexEnd': 755,\n",
       "   'width': 0,\n",
       "   'height': 0,\n",
       "   'fps': 0,\n",
       "   'contentLength': 5057647},\n",
       "  {'url': 'https://pipedproxy-cwl.kavin.rocks/videoplayback?expire=1685233950&ei=vkxyZLvxLI66W9Ong9AJ&ip=129.151.90.107&id=o-ANrn99z9AcuoHsMk74K5dIAWxlGEWeOkMbN60hn1VagF&itag=599&source=youtube&requiressl=yes&mh=5h&mm=31%2C29&mn=sn-5hnekn7l%2Csn-5hne6nsk&ms=au%2Crdu&mv=m&mvi=1&pl=25&initcwndbps=461250&spc=qEK7BznSCzV86NQsLYwmaayyqa1JxXo&vprv=1&svpuc=1&mime=audio%2Fmp4&gir=yes&clen=1117552&dur=290.110&lmt=1585370224941809&mt=1685212133&fvip=5&keepalive=yes&fexp=24007246%2C24363393&beids=24350017&c=ANDROID&txp=5401222&sparams=expire%2Cei%2Cip%2Cid%2Citag%2Csource%2Crequiressl%2Cspc%2Cvprv%2Csvpuc%2Cmime%2Cgir%2Cclen%2Cdur%2Clmt&sig=AOq0QJ8wRQIhAMyevYDqjIwMpHqlYsudz_QU9R9pUmiXny7dBJjxDVpYAiBT1HXaSIwIKONY0h3FlbdYgZQ9dnGdaitjNKPcHmPMLQ%3D%3D&lsparams=mh%2Cmm%2Cmn%2Cms%2Cmv%2Cmvi%2Cpl%2Cinitcwndbps&lsig=AG3C_xAwRQIhAL0v8E5QMN1-dRGlWQDYuAHcGoFCV3bhaadne3MR7-SDAiAyg3rX8_G1q0saPi0isMznccjQo_lqrEqwEgSKgutP_Q%3D%3D&cpn=pS53S7dBNpQF8zzN&host=rr1---sn-5hnekn7l.googlevideo.com',\n",
       "   'format': 'M4A',\n",
       "   'quality': '30 kbps',\n",
       "   'mimeType': 'audio/mp4',\n",
       "   'codec': 'mp4a.40.5',\n",
       "   'audioTrackId': None,\n",
       "   'audioTrackName': None,\n",
       "   'audioTrackType': None,\n",
       "   'audioTrackLocale': None,\n",
       "   'videoOnly': False,\n",
       "   'bitrate': 32219,\n",
       "   'initStart': 0,\n",
       "   'initEnd': 640,\n",
       "   'indexStart': 641,\n",
       "   'indexEnd': 1032,\n",
       "   'width': 0,\n",
       "   'height': 0,\n",
       "   'fps': 0,\n",
       "   'contentLength': 1117552},\n",
       "  {'url': 'https://pipedproxy-cwl.kavin.rocks/videoplayback?expire=1685233950&ei=vkxyZLvxLI66W9Ong9AJ&ip=129.151.90.107&id=o-ANrn99z9AcuoHsMk74K5dIAWxlGEWeOkMbN60hn1VagF&itag=600&source=youtube&requiressl=yes&mh=5h&mm=31%2C29&mn=sn-5hnekn7l%2Csn-5hne6nsk&ms=au%2Crdu&mv=m&mvi=1&pl=25&initcwndbps=461250&spc=qEK7BznSCzV86NQsLYwmaayyqa1JxXo&vprv=1&svpuc=1&mime=audio%2Fwebm&gir=yes&clen=1316045&dur=289.941&lmt=1585370997406863&mt=1685212133&fvip=5&keepalive=yes&fexp=24007246%2C24363393&beids=24350017&c=ANDROID&txp=5401222&sparams=expire%2Cei%2Cip%2Cid%2Citag%2Csource%2Crequiressl%2Cspc%2Cvprv%2Csvpuc%2Cmime%2Cgir%2Cclen%2Cdur%2Clmt&sig=AOq0QJ8wRgIhAPP8NgsvfIngZA_e3p_JBTzr4aAK9ChtDye9Is97pKWaAiEAwRrdXX-KxsjsEQ5pBYtylBzCdNIewazlZfx4Fmh6dLA%3D&lsparams=mh%2Cmm%2Cmn%2Cms%2Cmv%2Cmvi%2Cpl%2Cinitcwndbps&lsig=AG3C_xAwRQIhAL0v8E5QMN1-dRGlWQDYuAHcGoFCV3bhaadne3MR7-SDAiAyg3rX8_G1q0saPi0isMznccjQo_lqrEqwEgSKgutP_Q%3D%3D&cpn=pS53S7dBNpQF8zzN&host=rr1---sn-5hnekn7l.googlevideo.com',\n",
       "   'format': 'WEBMA_OPUS',\n",
       "   'quality': '35 kbps',\n",
       "   'mimeType': 'audio/webm',\n",
       "   'codec': 'opus',\n",
       "   'audioTrackId': None,\n",
       "   'audioTrackName': None,\n",
       "   'audioTrackType': None,\n",
       "   'audioTrackLocale': None,\n",
       "   'videoOnly': False,\n",
       "   'bitrate': 40753,\n",
       "   'initStart': 0,\n",
       "   'initEnd': 265,\n",
       "   'indexStart': 266,\n",
       "   'indexEnd': 754,\n",
       "   'width': 0,\n",
       "   'height': 0,\n",
       "   'fps': 0,\n",
       "   'contentLength': 1316045}],\n",
       " 'videoStreams': [{'url': 'https://pipedproxy-cwl.kavin.rocks/videoplayback?expire=1685233950&ei=vkxyZLvxLI66W9Ong9AJ&ip=129.151.90.107&id=o-ANrn99z9AcuoHsMk74K5dIAWxlGEWeOkMbN60hn1VagF&itag=137&source=youtube&requiressl=yes&mh=5h&mm=31%2C29&mn=sn-5hnekn7l%2Csn-5hne6nsk&ms=au%2Crdu&mv=m&mvi=1&pl=25&initcwndbps=461250&spc=qEK7BznSCzV86NQsLYwmaayyqa1JxXo&vprv=1&svpuc=1&mime=video%2Fmp4&gir=yes&clen=67267774&dur=289.916&lmt=1577240277093473&mt=1685212133&fvip=5&keepalive=yes&fexp=24007246%2C24363393&beids=24350017&c=ANDROID&txp=5432432&sparams=expire%2Cei%2Cip%2Cid%2Citag%2Csource%2Crequiressl%2Cspc%2Cvprv%2Csvpuc%2Cmime%2Cgir%2Cclen%2Cdur%2Clmt&sig=AOq0QJ8wQwIgTMUVtZnbQgJCf6c1eEr_JxmmthiHH9CncSxWXAm6czgCH0ajLi15xGlpmkpg6R2hH84TBdci9_SIT2KflQShYGs%3D&lsparams=mh%2Cmm%2Cmn%2Cms%2Cmv%2Cmvi%2Cpl%2Cinitcwndbps&lsig=AG3C_xAwRQIhAL0v8E5QMN1-dRGlWQDYuAHcGoFCV3bhaadne3MR7-SDAiAyg3rX8_G1q0saPi0isMznccjQo_lqrEqwEgSKgutP_Q%3D%3D&cpn=pS53S7dBNpQF8zzN&host=rr1---sn-5hnekn7l.googlevideo.com',\n",
       "   'format': 'MPEG_4',\n",
       "   'quality': '1080p',\n",
       "   'mimeType': 'video/mp4',\n",
       "   'codec': 'avc1.640028',\n",
       "   'audioTrackId': None,\n",
       "   'audioTrackName': None,\n",
       "   'audioTrackType': None,\n",
       "   'audioTrackLocale': None,\n",
       "   'videoOnly': True,\n",
       "   'bitrate': 3108063,\n",
       "   'initStart': 0,\n",
       "   'initEnd': 741,\n",
       "   'indexStart': 742,\n",
       "   'indexEnd': 1469,\n",
       "   'width': 1920,\n",
       "   'height': 1080,\n",
       "   'fps': 24,\n",
       "   'contentLength': 67267774},\n",
       "  {'url': 'https://pipedproxy-cwl.kavin.rocks/videoplayback?expire=1685233950&ei=vkxyZLvxLI66W9Ong9AJ&ip=129.151.90.107&id=o-ANrn99z9AcuoHsMk74K5dIAWxlGEWeOkMbN60hn1VagF&itag=248&source=youtube&requiressl=yes&mh=5h&mm=31%2C29&mn=sn-5hnekn7l%2Csn-5hne6nsk&ms=au%2Crdu&mv=m&mvi=1&pl=25&initcwndbps=461250&spc=qEK7BznSCzV86NQsLYwmaayyqa1JxXo&vprv=1&svpuc=1&mime=video%2Fwebm&gir=yes&clen=56157824&dur=289.916&lmt=1577240480598374&mt=1685212133&fvip=5&keepalive=yes&fexp=24007246%2C24363393&beids=24350017&c=ANDROID&txp=5431432&sparams=expire%2Cei%2Cip%2Cid%2Citag%2Csource%2Crequiressl%2Cspc%2Cvprv%2Csvpuc%2Cmime%2Cgir%2Cclen%2Cdur%2Clmt&sig=AOq0QJ8wRQIgLXWlkutRDVTV0USP9SeHzsLBsKdzvjDU9lt_D5T-rLUCIQCKeIPQD6h2fXkmfvOr6fP-SFxVscgYzLYCOG8B1ayq2A%3D%3D&lsparams=mh%2Cmm%2Cmn%2Cms%2Cmv%2Cmvi%2Cpl%2Cinitcwndbps&lsig=AG3C_xAwRQIhAL0v8E5QMN1-dRGlWQDYuAHcGoFCV3bhaadne3MR7-SDAiAyg3rX8_G1q0saPi0isMznccjQo_lqrEqwEgSKgutP_Q%3D%3D&cpn=pS53S7dBNpQF8zzN&host=rr1---sn-5hnekn7l.googlevideo.com',\n",
       "   'format': 'WEBM',\n",
       "   'quality': '1080p',\n",
       "   'mimeType': 'video/webm',\n",
       "   'codec': 'vp9',\n",
       "   'audioTrackId': None,\n",
       "   'audioTrackName': None,\n",
       "   'audioTrackType': None,\n",
       "   'audioTrackLocale': None,\n",
       "   'videoOnly': True,\n",
       "   'bitrate': 2618262,\n",
       "   'initStart': 0,\n",
       "   'initEnd': 219,\n",
       "   'indexStart': 220,\n",
       "   'indexEnd': 1238,\n",
       "   'width': 1920,\n",
       "   'height': 1080,\n",
       "   'fps': 24,\n",
       "   'contentLength': 56157824},\n",
       "  {'url': 'https://pipedproxy-cwl.kavin.rocks/videoplayback?expire=1685233950&ei=vkxyZLvxLI66W9Ong9AJ&ip=129.151.90.107&id=o-ANrn99z9AcuoHsMk74K5dIAWxlGEWeOkMbN60hn1VagF&itag=136&source=youtube&requiressl=yes&mh=5h&mm=31%2C29&mn=sn-5hnekn7l%2Csn-5hne6nsk&ms=au%2Crdu&mv=m&mvi=1&pl=25&initcwndbps=461250&spc=qEK7BznSCzV86NQsLYwmaayyqa1JxXo&vprv=1&svpuc=1&mime=video%2Fmp4&gir=yes&clen=37021592&dur=289.916&lmt=1577240661774532&mt=1685212133&fvip=5&keepalive=yes&fexp=24007246%2C24363393&beids=24350017&c=ANDROID&txp=5432432&sparams=expire%2Cei%2Cip%2Cid%2Citag%2Csource%2Crequiressl%2Cspc%2Cvprv%2Csvpuc%2Cmime%2Cgir%2Cclen%2Cdur%2Clmt&sig=AOq0QJ8wRAIgMxEQxNwhXjN13TRW-ZZa1lFLliFyZujHxL9l2hdAHlsCIES0IT_FIh3UPYSKC4Lph7_3t_aw88a6dxYWS_6PEWCU&lsparams=mh%2Cmm%2Cmn%2Cms%2Cmv%2Cmvi%2Cpl%2Cinitcwndbps&lsig=AG3C_xAwRQIhAL0v8E5QMN1-dRGlWQDYuAHcGoFCV3bhaadne3MR7-SDAiAyg3rX8_G1q0saPi0isMznccjQo_lqrEqwEgSKgutP_Q%3D%3D&cpn=pS53S7dBNpQF8zzN&host=rr1---sn-5hnekn7l.googlevideo.com',\n",
       "   'format': 'MPEG_4',\n",
       "   'quality': '720p',\n",
       "   'mimeType': 'video/mp4',\n",
       "   'codec': 'avc1.4d401f',\n",
       "   'audioTrackId': None,\n",
       "   'audioTrackName': None,\n",
       "   'audioTrackType': None,\n",
       "   'audioTrackLocale': None,\n",
       "   'videoOnly': True,\n",
       "   'bitrate': 1829869,\n",
       "   'initStart': 0,\n",
       "   'initEnd': 739,\n",
       "   'indexStart': 740,\n",
       "   'indexEnd': 1467,\n",
       "   'width': 1280,\n",
       "   'height': 720,\n",
       "   'fps': 24,\n",
       "   'contentLength': 37021592},\n",
       "  {'url': 'https://pipedproxy-cwl.kavin.rocks/videoplayback?expire=1685233950&ei=vkxyZLvxLI66W9Ong9AJ&ip=129.151.90.107&id=o-ANrn99z9AcuoHsMk74K5dIAWxlGEWeOkMbN60hn1VagF&itag=247&source=youtube&requiressl=yes&mh=5h&mm=31%2C29&mn=sn-5hnekn7l%2Csn-5hne6nsk&ms=au%2Crdu&mv=m&mvi=1&pl=25&initcwndbps=461250&spc=qEK7BznSCzV86NQsLYwmaayyqa1JxXo&vprv=1&svpuc=1&mime=video%2Fwebm&gir=yes&clen=30918522&dur=289.916&lmt=1577240851775981&mt=1685212133&fvip=5&keepalive=yes&fexp=24007246%2C24363393&beids=24350017&c=ANDROID&txp=5431432&sparams=expire%2Cei%2Cip%2Cid%2Citag%2Csource%2Crequiressl%2Cspc%2Cvprv%2Csvpuc%2Cmime%2Cgir%2Cclen%2Cdur%2Clmt&sig=AOq0QJ8wRAIgKjXnk0zwpsqsS-D59FCiA8eu3UIABN2h9JC2URclERACIEdj-EZojmnWmJ9QlWLdielGHQKkw-UmvVWp0xpF4g2U&lsparams=mh%2Cmm%2Cmn%2Cms%2Cmv%2Cmvi%2Cpl%2Cinitcwndbps&lsig=AG3C_xAwRQIhAL0v8E5QMN1-dRGlWQDYuAHcGoFCV3bhaadne3MR7-SDAiAyg3rX8_G1q0saPi0isMznccjQo_lqrEqwEgSKgutP_Q%3D%3D&cpn=pS53S7dBNpQF8zzN&host=rr1---sn-5hnekn7l.googlevideo.com',\n",
       "   'format': 'WEBM',\n",
       "   'quality': '720p',\n",
       "   'mimeType': 'video/webm',\n",
       "   'codec': 'vp9',\n",
       "   'audioTrackId': None,\n",
       "   'audioTrackName': None,\n",
       "   'audioTrackType': None,\n",
       "   'audioTrackLocale': None,\n",
       "   'videoOnly': True,\n",
       "   'bitrate': 1504769,\n",
       "   'initStart': 0,\n",
       "   'initEnd': 219,\n",
       "   'indexStart': 220,\n",
       "   'indexEnd': 1224,\n",
       "   'width': 1280,\n",
       "   'height': 720,\n",
       "   'fps': 24,\n",
       "   'contentLength': 30918522},\n",
       "  {'url': 'https://pipedproxy-cwl.kavin.rocks/videoplayback?expire=1685233950&ei=vkxyZLvxLI66W9Ong9AJ&ip=129.151.90.107&id=o-ANrn99z9AcuoHsMk74K5dIAWxlGEWeOkMbN60hn1VagF&itag=135&source=youtube&requiressl=yes&mh=5h&mm=31%2C29&mn=sn-5hnekn7l%2Csn-5hne6nsk&ms=au%2Crdu&mv=m&mvi=1&pl=25&initcwndbps=461250&spc=qEK7BznSCzV86NQsLYwmaayyqa1JxXo&vprv=1&svpuc=1&mime=video%2Fmp4&gir=yes&clen=19774689&dur=289.916&lmt=1577240661771841&mt=1685212133&fvip=5&keepalive=yes&fexp=24007246%2C24363393&beids=24350017&c=ANDROID&txp=5432432&sparams=expire%2Cei%2Cip%2Cid%2Citag%2Csource%2Crequiressl%2Cspc%2Cvprv%2Csvpuc%2Cmime%2Cgir%2Cclen%2Cdur%2Clmt&sig=AOq0QJ8wRgIhANyOWJTBsNV_Bp6HsNaocNE-kUTqr9XFQJcCSpmqnSmhAiEAv2eZElZ9h6p1DUMaKYUt05AV4LBGixKne_yLFf-DZi8%3D&lsparams=mh%2Cmm%2Cmn%2Cms%2Cmv%2Cmvi%2Cpl%2Cinitcwndbps&lsig=AG3C_xAwRQIhAL0v8E5QMN1-dRGlWQDYuAHcGoFCV3bhaadne3MR7-SDAiAyg3rX8_G1q0saPi0isMznccjQo_lqrEqwEgSKgutP_Q%3D%3D&cpn=pS53S7dBNpQF8zzN&host=rr1---sn-5hnekn7l.googlevideo.com',\n",
       "   'format': 'MPEG_4',\n",
       "   'quality': '480p',\n",
       "   'mimeType': 'video/mp4',\n",
       "   'codec': 'avc1.4d401e',\n",
       "   'audioTrackId': None,\n",
       "   'audioTrackName': None,\n",
       "   'audioTrackType': None,\n",
       "   'audioTrackLocale': None,\n",
       "   'videoOnly': True,\n",
       "   'bitrate': 1013118,\n",
       "   'initStart': 0,\n",
       "   'initEnd': 740,\n",
       "   'indexStart': 741,\n",
       "   'indexEnd': 1468,\n",
       "   'width': 854,\n",
       "   'height': 480,\n",
       "   'fps': 24,\n",
       "   'contentLength': 19774689},\n",
       "  {'url': 'https://pipedproxy-cwl.kavin.rocks/videoplayback?expire=1685233950&ei=vkxyZLvxLI66W9Ong9AJ&ip=129.151.90.107&id=o-ANrn99z9AcuoHsMk74K5dIAWxlGEWeOkMbN60hn1VagF&itag=244&source=youtube&requiressl=yes&mh=5h&mm=31%2C29&mn=sn-5hnekn7l%2Csn-5hne6nsk&ms=au%2Crdu&mv=m&mvi=1&pl=25&initcwndbps=461250&spc=qEK7BznSCzV86NQsLYwmaayyqa1JxXo&vprv=1&svpuc=1&mime=video%2Fwebm&gir=yes&clen=15530024&dur=289.916&lmt=1577240851781072&mt=1685212133&fvip=5&keepalive=yes&fexp=24007246%2C24363393&beids=24350017&c=ANDROID&txp=5431432&sparams=expire%2Cei%2Cip%2Cid%2Citag%2Csource%2Crequiressl%2Cspc%2Cvprv%2Csvpuc%2Cmime%2Cgir%2Cclen%2Cdur%2Clmt&sig=AOq0QJ8wRQIhAOpE84PqwgeasAXlaSpKSQDER5xYcPuMDvO6ICdxNRoOAiBIs6C-qNzGTidjKj8Oey8oOR4km2IcAOcod2rts4aUGw%3D%3D&lsparams=mh%2Cmm%2Cmn%2Cms%2Cmv%2Cmvi%2Cpl%2Cinitcwndbps&lsig=AG3C_xAwRQIhAL0v8E5QMN1-dRGlWQDYuAHcGoFCV3bhaadne3MR7-SDAiAyg3rX8_G1q0saPi0isMznccjQo_lqrEqwEgSKgutP_Q%3D%3D&cpn=pS53S7dBNpQF8zzN&host=rr1---sn-5hnekn7l.googlevideo.com',\n",
       "   'format': 'WEBM',\n",
       "   'quality': '480p',\n",
       "   'mimeType': 'video/webm',\n",
       "   'codec': 'vp9',\n",
       "   'audioTrackId': None,\n",
       "   'audioTrackName': None,\n",
       "   'audioTrackType': None,\n",
       "   'audioTrackLocale': None,\n",
       "   'videoOnly': True,\n",
       "   'bitrate': 757192,\n",
       "   'initStart': 0,\n",
       "   'initEnd': 219,\n",
       "   'indexStart': 220,\n",
       "   'indexEnd': 1196,\n",
       "   'width': 854,\n",
       "   'height': 480,\n",
       "   'fps': 24,\n",
       "   'contentLength': 15530024},\n",
       "  {'url': 'https://pipedproxy-cwl.kavin.rocks/videoplayback?expire=1685233950&ei=vkxyZLvxLI66W9Ong9AJ&ip=129.151.90.107&id=o-ANrn99z9AcuoHsMk74K5dIAWxlGEWeOkMbN60hn1VagF&itag=134&source=youtube&requiressl=yes&mh=5h&mm=31%2C29&mn=sn-5hnekn7l%2Csn-5hne6nsk&ms=au%2Crdu&mv=m&mvi=1&pl=25&initcwndbps=461250&spc=qEK7BznSCzV86NQsLYwmaayyqa1JxXo&vprv=1&svpuc=1&mime=video%2Fmp4&gir=yes&clen=10251216&dur=289.916&lmt=1577240661768205&mt=1685212133&fvip=5&keepalive=yes&fexp=24007246%2C24363393&beids=24350017&c=ANDROID&txp=5432432&sparams=expire%2Cei%2Cip%2Cid%2Citag%2Csource%2Crequiressl%2Cspc%2Cvprv%2Csvpuc%2Cmime%2Cgir%2Cclen%2Cdur%2Clmt&sig=AOq0QJ8wRQIhAKbPsMEnKMWZtHy2Ks-G5WZEH-uTB4lt__uL6O3h62znAiAXqe2cxoCxA90pwcpBL32VAdUH6ZwaXHqfnOEreezwEg%3D%3D&lsparams=mh%2Cmm%2Cmn%2Cms%2Cmv%2Cmvi%2Cpl%2Cinitcwndbps&lsig=AG3C_xAwRQIhAL0v8E5QMN1-dRGlWQDYuAHcGoFCV3bhaadne3MR7-SDAiAyg3rX8_G1q0saPi0isMznccjQo_lqrEqwEgSKgutP_Q%3D%3D&cpn=pS53S7dBNpQF8zzN&host=rr1---sn-5hnekn7l.googlevideo.com',\n",
       "   'format': 'MPEG_4',\n",
       "   'quality': '360p',\n",
       "   'mimeType': 'video/mp4',\n",
       "   'codec': 'avc1.4d401e',\n",
       "   'audioTrackId': None,\n",
       "   'audioTrackName': None,\n",
       "   'audioTrackType': None,\n",
       "   'audioTrackLocale': None,\n",
       "   'videoOnly': True,\n",
       "   'bitrate': 499156,\n",
       "   'initStart': 0,\n",
       "   'initEnd': 740,\n",
       "   'indexStart': 741,\n",
       "   'indexEnd': 1468,\n",
       "   'width': 640,\n",
       "   'height': 360,\n",
       "   'fps': 24,\n",
       "   'contentLength': 10251216},\n",
       "  {'url': 'https://pipedproxy-cwl.kavin.rocks/videoplayback?expire=1685233950&ei=vkxyZLvxLI66W9Ong9AJ&ip=129.151.90.107&id=o-ANrn99z9AcuoHsMk74K5dIAWxlGEWeOkMbN60hn1VagF&itag=243&source=youtube&requiressl=yes&mh=5h&mm=31%2C29&mn=sn-5hnekn7l%2Csn-5hne6nsk&ms=au%2Crdu&mv=m&mvi=1&pl=25&initcwndbps=461250&spc=qEK7BznSCzV86NQsLYwmaayyqa1JxXo&vprv=1&svpuc=1&mime=video%2Fwebm&gir=yes&clen=9409527&dur=289.916&lmt=1577240851773381&mt=1685212133&fvip=5&keepalive=yes&fexp=24007246%2C24363393&beids=24350017&c=ANDROID&txp=5431432&sparams=expire%2Cei%2Cip%2Cid%2Citag%2Csource%2Crequiressl%2Cspc%2Cvprv%2Csvpuc%2Cmime%2Cgir%2Cclen%2Cdur%2Clmt&sig=AOq0QJ8wRAIgDfQ8mx0qogW2kv5EzLCUAnC_kwQzWJYQW-o50Dkvgn4CIBygOXUA62qh4zzeXtmacWWYb5V0pR9_frx5X2aR8mSd&lsparams=mh%2Cmm%2Cmn%2Cms%2Cmv%2Cmvi%2Cpl%2Cinitcwndbps&lsig=AG3C_xAwRQIhAL0v8E5QMN1-dRGlWQDYuAHcGoFCV3bhaadne3MR7-SDAiAyg3rX8_G1q0saPi0isMznccjQo_lqrEqwEgSKgutP_Q%3D%3D&cpn=pS53S7dBNpQF8zzN&host=rr1---sn-5hnekn7l.googlevideo.com',\n",
       "   'format': 'WEBM',\n",
       "   'quality': '360p',\n",
       "   'mimeType': 'video/webm',\n",
       "   'codec': 'vp9',\n",
       "   'audioTrackId': None,\n",
       "   'audioTrackName': None,\n",
       "   'audioTrackType': None,\n",
       "   'audioTrackLocale': None,\n",
       "   'videoOnly': True,\n",
       "   'bitrate': 409642,\n",
       "   'initStart': 0,\n",
       "   'initEnd': 219,\n",
       "   'indexStart': 220,\n",
       "   'indexEnd': 1195,\n",
       "   'width': 640,\n",
       "   'height': 360,\n",
       "   'fps': 24,\n",
       "   'contentLength': 9409527},\n",
       "  {'url': 'https://pipedproxy-cwl.kavin.rocks/videoplayback?expire=1685233950&ei=vkxyZLvxLI66W9Ong9AJ&ip=129.151.90.107&id=o-ANrn99z9AcuoHsMk74K5dIAWxlGEWeOkMbN60hn1VagF&itag=133&source=youtube&requiressl=yes&mh=5h&mm=31%2C29&mn=sn-5hnekn7l%2Csn-5hne6nsk&ms=au%2Crdu&mv=m&mvi=1&pl=25&initcwndbps=461250&spc=qEK7BznSCzV86NQsLYwmaayyqa1JxXo&vprv=1&svpuc=1&mime=video%2Fmp4&gir=yes&clen=4500726&dur=289.916&lmt=1577240661768467&mt=1685212133&fvip=5&keepalive=yes&fexp=24007246%2C24363393&beids=24350017&c=ANDROID&txp=5432432&sparams=expire%2Cei%2Cip%2Cid%2Citag%2Csource%2Crequiressl%2Cspc%2Cvprv%2Csvpuc%2Cmime%2Cgir%2Cclen%2Cdur%2Clmt&sig=AOq0QJ8wRgIhALhB3V5TUZngo4Olwp63-TrsjxeWlt07B5AGdAaInzgWAiEAv8tpeKnFcIXOP2lh9rxIDcTjtAzq5-8OvhxNtIa-zzQ%3D&lsparams=mh%2Cmm%2Cmn%2Cms%2Cmv%2Cmvi%2Cpl%2Cinitcwndbps&lsig=AG3C_xAwRQIhAL0v8E5QMN1-dRGlWQDYuAHcGoFCV3bhaadne3MR7-SDAiAyg3rX8_G1q0saPi0isMznccjQo_lqrEqwEgSKgutP_Q%3D%3D&cpn=pS53S7dBNpQF8zzN&host=rr1---sn-5hnekn7l.googlevideo.com',\n",
       "   'format': 'MPEG_4',\n",
       "   'quality': '240p',\n",
       "   'mimeType': 'video/mp4',\n",
       "   'codec': 'avc1.4d4015',\n",
       "   'audioTrackId': None,\n",
       "   'audioTrackName': None,\n",
       "   'audioTrackType': None,\n",
       "   'audioTrackLocale': None,\n",
       "   'videoOnly': True,\n",
       "   'bitrate': 189827,\n",
       "   'initStart': 0,\n",
       "   'initEnd': 739,\n",
       "   'indexStart': 740,\n",
       "   'indexEnd': 1467,\n",
       "   'width': 426,\n",
       "   'height': 240,\n",
       "   'fps': 24,\n",
       "   'contentLength': 4500726},\n",
       "  {'url': 'https://pipedproxy-cwl.kavin.rocks/videoplayback?expire=1685233950&ei=vkxyZLvxLI66W9Ong9AJ&ip=129.151.90.107&id=o-ANrn99z9AcuoHsMk74K5dIAWxlGEWeOkMbN60hn1VagF&itag=242&source=youtube&requiressl=yes&mh=5h&mm=31%2C29&mn=sn-5hnekn7l%2Csn-5hne6nsk&ms=au%2Crdu&mv=m&mvi=1&pl=25&initcwndbps=461250&spc=qEK7BznSCzV86NQsLYwmaayyqa1JxXo&vprv=1&svpuc=1&mime=video%2Fwebm&gir=yes&clen=5278528&dur=289.916&lmt=1577240851791489&mt=1685212133&fvip=5&keepalive=yes&fexp=24007246%2C24363393&beids=24350017&c=ANDROID&txp=5431432&sparams=expire%2Cei%2Cip%2Cid%2Citag%2Csource%2Crequiressl%2Cspc%2Cvprv%2Csvpuc%2Cmime%2Cgir%2Cclen%2Cdur%2Clmt&sig=AOq0QJ8wRgIhALfAc2z977eIYmMQSXJ_ijBVQQTmQ_N_H5cg2K_-OhXKAiEAhAioGgsmcU1SQrBGuOnjeac6AA-0YSsx8G68q7hrZtY%3D&lsparams=mh%2Cmm%2Cmn%2Cms%2Cmv%2Cmvi%2Cpl%2Cinitcwndbps&lsig=AG3C_xAwRQIhAL0v8E5QMN1-dRGlWQDYuAHcGoFCV3bhaadne3MR7-SDAiAyg3rX8_G1q0saPi0isMznccjQo_lqrEqwEgSKgutP_Q%3D%3D&cpn=pS53S7dBNpQF8zzN&host=rr1---sn-5hnekn7l.googlevideo.com',\n",
       "   'format': 'WEBM',\n",
       "   'quality': '240p',\n",
       "   'mimeType': 'video/webm',\n",
       "   'codec': 'vp9',\n",
       "   'audioTrackId': None,\n",
       "   'audioTrackName': None,\n",
       "   'audioTrackType': None,\n",
       "   'audioTrackLocale': None,\n",
       "   'videoOnly': True,\n",
       "   'bitrate': 224074,\n",
       "   'initStart': 0,\n",
       "   'initEnd': 218,\n",
       "   'indexStart': 219,\n",
       "   'indexEnd': 1194,\n",
       "   'width': 426,\n",
       "   'height': 240,\n",
       "   'fps': 24,\n",
       "   'contentLength': 5278528},\n",
       "  {'url': 'https://pipedproxy-cwl.kavin.rocks/videoplayback?expire=1685233950&ei=vkxyZLvxLI66W9Ong9AJ&ip=129.151.90.107&id=o-ANrn99z9AcuoHsMk74K5dIAWxlGEWeOkMbN60hn1VagF&itag=160&source=youtube&requiressl=yes&mh=5h&mm=31%2C29&mn=sn-5hnekn7l%2Csn-5hne6nsk&ms=au%2Crdu&mv=m&mvi=1&pl=25&initcwndbps=461250&spc=qEK7BznSCzV86NQsLYwmaayyqa1JxXo&vprv=1&svpuc=1&mime=video%2Fmp4&gir=yes&clen=2463819&dur=289.916&lmt=1577240661771013&mt=1685212133&fvip=5&keepalive=yes&fexp=24007246%2C24363393&beids=24350017&c=ANDROID&txp=5432432&sparams=expire%2Cei%2Cip%2Cid%2Citag%2Csource%2Crequiressl%2Cspc%2Cvprv%2Csvpuc%2Cmime%2Cgir%2Cclen%2Cdur%2Clmt&sig=AOq0QJ8wRgIhAKJBztIlPLtrGGussIxrNWchrjJCisi5fD7kLfbCWzGuAiEAnILJyv_kw7-0FqmIrSomlNIKtxP2IJbjq2YrxUC8MMg%3D&lsparams=mh%2Cmm%2Cmn%2Cms%2Cmv%2Cmvi%2Cpl%2Cinitcwndbps&lsig=AG3C_xAwRQIhAL0v8E5QMN1-dRGlWQDYuAHcGoFCV3bhaadne3MR7-SDAiAyg3rX8_G1q0saPi0isMznccjQo_lqrEqwEgSKgutP_Q%3D%3D&cpn=pS53S7dBNpQF8zzN&host=rr1---sn-5hnekn7l.googlevideo.com',\n",
       "   'format': 'MPEG_4',\n",
       "   'quality': '144p',\n",
       "   'mimeType': 'video/mp4',\n",
       "   'codec': 'avc1.4d400c',\n",
       "   'audioTrackId': None,\n",
       "   'audioTrackName': None,\n",
       "   'audioTrackType': None,\n",
       "   'audioTrackLocale': None,\n",
       "   'videoOnly': True,\n",
       "   'bitrate': 101359,\n",
       "   'initStart': 0,\n",
       "   'initEnd': 738,\n",
       "   'indexStart': 739,\n",
       "   'indexEnd': 1466,\n",
       "   'width': 256,\n",
       "   'height': 144,\n",
       "   'fps': 24,\n",
       "   'contentLength': 2463819},\n",
       "  {'url': 'https://pipedproxy-cwl.kavin.rocks/videoplayback?expire=1685233950&ei=vkxyZLvxLI66W9Ong9AJ&ip=129.151.90.107&id=o-ANrn99z9AcuoHsMk74K5dIAWxlGEWeOkMbN60hn1VagF&itag=278&source=youtube&requiressl=yes&mh=5h&mm=31%2C29&mn=sn-5hnekn7l%2Csn-5hne6nsk&ms=au%2Crdu&mv=m&mvi=1&pl=25&initcwndbps=461250&spc=qEK7BznSCzV86NQsLYwmaayyqa1JxXo&vprv=1&svpuc=1&mime=video%2Fwebm&gir=yes&clen=3263746&dur=289.916&lmt=1577240851810380&mt=1685212133&fvip=5&keepalive=yes&fexp=24007246%2C24363393&beids=24350017&c=ANDROID&txp=5431432&sparams=expire%2Cei%2Cip%2Cid%2Citag%2Csource%2Crequiressl%2Cspc%2Cvprv%2Csvpuc%2Cmime%2Cgir%2Cclen%2Cdur%2Clmt&sig=AOq0QJ8wRQIgWLPcf4js2U8ppXfRLmmIjovcfpQ26vuEUu-0zpbdM3cCIQDRgRSVU9_FPQjamXXDOJLsgU9niyqImzo919Q0bcb1qw%3D%3D&lsparams=mh%2Cmm%2Cmn%2Cms%2Cmv%2Cmvi%2Cpl%2Cinitcwndbps&lsig=AG3C_xAwRQIhAL0v8E5QMN1-dRGlWQDYuAHcGoFCV3bhaadne3MR7-SDAiAyg3rX8_G1q0saPi0isMznccjQo_lqrEqwEgSKgutP_Q%3D%3D&cpn=pS53S7dBNpQF8zzN&host=rr1---sn-5hnekn7l.googlevideo.com',\n",
       "   'format': 'WEBM',\n",
       "   'quality': '144p',\n",
       "   'mimeType': 'video/webm',\n",
       "   'codec': 'vp9',\n",
       "   'audioTrackId': None,\n",
       "   'audioTrackName': None,\n",
       "   'audioTrackType': None,\n",
       "   'audioTrackLocale': None,\n",
       "   'videoOnly': True,\n",
       "   'bitrate': 96421,\n",
       "   'initStart': 0,\n",
       "   'initEnd': 218,\n",
       "   'indexStart': 219,\n",
       "   'indexEnd': 1194,\n",
       "   'width': 256,\n",
       "   'height': 144,\n",
       "   'fps': 24,\n",
       "   'contentLength': 3263746},\n",
       "  {'url': 'https://pipedproxy-cwl.kavin.rocks/videoplayback?expire=1685233950&ei=vkxyZLvxLI66W9Ong9AJ&ip=129.151.90.107&id=o-ANrn99z9AcuoHsMk74K5dIAWxlGEWeOkMbN60hn1VagF&itag=17&source=youtube&requiressl=yes&mh=5h&mm=31%2C29&mn=sn-5hnekn7l%2Csn-5hne6nsk&ms=au%2Crdu&mv=m&mvi=1&pl=25&initcwndbps=461250&spc=qEK7BznSCzV86NQsLYwmaayyqa1JxXo&vprv=1&svpuc=1&mime=video%2F3gpp&gir=yes&clen=2894266&dur=290.017&lmt=1577239712273193&mt=1685212133&fvip=5&fexp=24007246%2C24363393&beids=24350017&c=ANDROID&txp=5431432&sparams=expire%2Cei%2Cip%2Cid%2Citag%2Csource%2Crequiressl%2Cspc%2Cvprv%2Csvpuc%2Cmime%2Cgir%2Cclen%2Cdur%2Clmt&sig=AOq0QJ8wRAIgVAJdAeQyBzLk7GzrD05fELqnqQGPlk9nVOfGU6VI-iYCIAGOBj-GeYWmJAoXDkUybyZ-HtjueOpx-_Z8LBvt4Ovs&lsparams=mh%2Cmm%2Cmn%2Cms%2Cmv%2Cmvi%2Cpl%2Cinitcwndbps&lsig=AG3C_xAwRQIhAL0v8E5QMN1-dRGlWQDYuAHcGoFCV3bhaadne3MR7-SDAiAyg3rX8_G1q0saPi0isMznccjQo_lqrEqwEgSKgutP_Q%3D%3D&cpn=pS53S7dBNpQF8zzN&host=rr1---sn-5hnekn7l.googlevideo.com',\n",
       "   'format': 'v3GPP',\n",
       "   'quality': '144p',\n",
       "   'mimeType': 'video/3gpp',\n",
       "   'codec': None,\n",
       "   'audioTrackId': None,\n",
       "   'audioTrackName': None,\n",
       "   'audioTrackType': None,\n",
       "   'audioTrackLocale': None,\n",
       "   'videoOnly': False,\n",
       "   'bitrate': 0,\n",
       "   'initStart': 0,\n",
       "   'initEnd': 0,\n",
       "   'indexStart': 0,\n",
       "   'indexEnd': 0,\n",
       "   'width': 0,\n",
       "   'height': 0,\n",
       "   'fps': 0,\n",
       "   'contentLength': 2894266},\n",
       "  {'url': 'https://pipedproxy-cwl.kavin.rocks/videoplayback?expire=1685233950&ei=vkxyZLvxLI66W9Ong9AJ&ip=129.151.90.107&id=o-ANrn99z9AcuoHsMk74K5dIAWxlGEWeOkMbN60hn1VagF&itag=18&source=youtube&requiressl=yes&mh=5h&mm=31%2C29&mn=sn-5hnekn7l%2Csn-5hne6nsk&ms=au%2Crdu&mv=m&mvi=1&pl=25&initcwndbps=461250&spc=qEK7BznSCzV86NQsLYwmaayyqa1JxXo&vprv=1&svpuc=1&mime=video%2Fmp4&cnr=14&ratebypass=yes&dur=289.970&lmt=1665334576993232&mt=1685212133&fvip=5&fexp=24007246%2C24363393&beids=24350017&c=ANDROID&txp=1438434&sparams=expire%2Cei%2Cip%2Cid%2Citag%2Csource%2Crequiressl%2Cspc%2Cvprv%2Csvpuc%2Cmime%2Ccnr%2Cratebypass%2Cdur%2Clmt&sig=AOq0QJ8wRgIhAKEy6zWsYK1x7gvp31eLoWYbVwO7x430wmN9WMbrdY-CAiEA80Au8uoLAtcZYCSTLDuMLcHX1eZWR6WRjvIpIjWg6cQ%3D&lsparams=mh%2Cmm%2Cmn%2Cms%2Cmv%2Cmvi%2Cpl%2Cinitcwndbps&lsig=AG3C_xAwRQIhAL0v8E5QMN1-dRGlWQDYuAHcGoFCV3bhaadne3MR7-SDAiAyg3rX8_G1q0saPi0isMznccjQo_lqrEqwEgSKgutP_Q%3D%3D&cpn=pS53S7dBNpQF8zzN&host=rr1---sn-5hnekn7l.googlevideo.com',\n",
       "   'format': 'MPEG_4',\n",
       "   'quality': '360p',\n",
       "   'mimeType': 'video/mp4',\n",
       "   'codec': None,\n",
       "   'audioTrackId': None,\n",
       "   'audioTrackName': None,\n",
       "   'audioTrackType': None,\n",
       "   'audioTrackLocale': None,\n",
       "   'videoOnly': False,\n",
       "   'bitrate': 0,\n",
       "   'initStart': 0,\n",
       "   'initEnd': 0,\n",
       "   'indexStart': 0,\n",
       "   'indexEnd': 0,\n",
       "   'width': 0,\n",
       "   'height': 0,\n",
       "   'fps': 0,\n",
       "   'contentLength': -1},\n",
       "  {'url': 'https://pipedproxy-cwl.kavin.rocks/videoplayback?expire=1685233950&ei=vkxyZLvxLI66W9Ong9AJ&ip=129.151.90.107&id=o-ANrn99z9AcuoHsMk74K5dIAWxlGEWeOkMbN60hn1VagF&itag=22&source=youtube&requiressl=yes&mh=5h&mm=31%2C29&mn=sn-5hnekn7l%2Csn-5hne6nsk&ms=au%2Crdu&mv=m&mvi=1&pl=25&initcwndbps=461250&spc=qEK7BznSCzV86NQsLYwmaayyqa1JxXo&vprv=1&svpuc=1&mime=video%2Fmp4&cnr=14&ratebypass=yes&dur=289.970&lmt=1577240697545445&mt=1685212133&fvip=5&fexp=24007246%2C24363393&beids=24350017&c=ANDROID&txp=5432432&sparams=expire%2Cei%2Cip%2Cid%2Citag%2Csource%2Crequiressl%2Cspc%2Cvprv%2Csvpuc%2Cmime%2Ccnr%2Cratebypass%2Cdur%2Clmt&sig=AOq0QJ8wRQIgRwJkRfqCpZC1_W2RQ32loUTDqJ_Z4oWqQuLNWAVYSukCIQDfj7Q9Pf4FaSZV5G5Og6oV6BGNOe7ftwB_kmVRnOg9Ww%3D%3D&lsparams=mh%2Cmm%2Cmn%2Cms%2Cmv%2Cmvi%2Cpl%2Cinitcwndbps&lsig=AG3C_xAwRQIhAL0v8E5QMN1-dRGlWQDYuAHcGoFCV3bhaadne3MR7-SDAiAyg3rX8_G1q0saPi0isMznccjQo_lqrEqwEgSKgutP_Q%3D%3D&cpn=pS53S7dBNpQF8zzN&host=rr1---sn-5hnekn7l.googlevideo.com',\n",
       "   'format': 'MPEG_4',\n",
       "   'quality': '720p',\n",
       "   'mimeType': 'video/mp4',\n",
       "   'codec': None,\n",
       "   'audioTrackId': None,\n",
       "   'audioTrackName': None,\n",
       "   'audioTrackType': None,\n",
       "   'audioTrackLocale': None,\n",
       "   'videoOnly': False,\n",
       "   'bitrate': 0,\n",
       "   'initStart': 0,\n",
       "   'initEnd': 0,\n",
       "   'indexStart': 0,\n",
       "   'indexEnd': 0,\n",
       "   'width': 0,\n",
       "   'height': 0,\n",
       "   'fps': 0,\n",
       "   'contentLength': -1}],\n",
       " 'relatedStreams': [{'url': '/watch?v=B2DGTD1Heg4',\n",
       "   'type': 'stream',\n",
       "   'title': 'Take Off Video Song | Pulkodiyil Thoomani | Shaan Rahman | Kunchacko Boban | Parvathy | Anto Joseph',\n",
       "   'thumbnail': 'https://pipedproxy.kavin.rocks/vi/B2DGTD1Heg4/hqdefault.jpg?sqp=-oaymwEbCKgBEF5IVfKriqkDDggBFQAAiEIYAXABwAEG&rs=AOn4CLAGxyta5tPer7KGOtpXO5LDj75KLQ&host=i.ytimg.com',\n",
       "   'uploaderName': 'Anto Joseph Film Company',\n",
       "   'uploaderUrl': '/channel/UCAAufdrkoIXtfHQI9QE1tzA',\n",
       "   'uploaderAvatar': 'https://pipedproxy.kavin.rocks/ytc/AGIKgqPkLP8aZCEXVIR_FMKoS7nvPagRv5mjI_ybz1AAmw=s68-c-k-c0x00ffffff-no-rw?host=yt3.ggpht.com',\n",
       "   'uploadedDate': '6 years ago',\n",
       "   'shortDescription': None,\n",
       "   'duration': 226,\n",
       "   'views': 11471257,\n",
       "   'uploaded': 1495821600000,\n",
       "   'uploaderVerified': False,\n",
       "   'isShort': False},\n",
       "  {'url': '/watch?v=QQTSs0qeHyw&playnext=1&list=RDQQTSs0qeHyw',\n",
       "   'type': 'playlist',\n",
       "   'name': 'Mix – Vettah | Raavu Maayave Lyric Video | Kunchacko Boban, Manju Warrier | Rinu Razak, Shaan Rahman | HD',\n",
       "   'thumbnail': 'https://pipedproxy.kavin.rocks/vi/QQTSs0qeHyw/hqdefault.jpg?sqp=-oaymwEWCKgBEF5IWvKriqkDCQgBFQAAiEIYAQ==&rs=AOn4CLCU-7i-Iq0xVwVbi8Ua9HQBqQO5uA&host=i.ytimg.com',\n",
       "   'uploaderName': 'Shaan Rahman, Karthik, Haricharan and more',\n",
       "   'uploaderUrl': None,\n",
       "   'uploaderVerified': False,\n",
       "   'playlistType': 'MIX_STREAM',\n",
       "   'videos': -2},\n",
       "  {'url': '/watch?v=FAn2i7gu32w',\n",
       "   'type': 'stream',\n",
       "   'title': 'Lailakame | Ezra Video Song ft Prithviraj Sukumaran, Priya Anand | Rahul Raj | Official',\n",
       "   'thumbnail': 'https://pipedproxy.kavin.rocks/vi/FAn2i7gu32w/hqdefault.jpg?sqp=-oaymwEbCKgBEF5IVfKriqkDDggBFQAAiEIYAXABwAEG&rs=AOn4CLA9P0W_mU_afwXzJGHuSOZKL2i8nA&host=i.ytimg.com',\n",
       "   'uploaderName': 'Muzik247',\n",
       "   'uploaderUrl': '/channel/UChRi1dpwnsZcIo1LSwzY0Iw',\n",
       "   'uploaderAvatar': 'https://pipedproxy.kavin.rocks/vi9ISqnoFfpa1J7WQMxxs2YKkhCh2mLy4DMRh9wqOre1VZ4DdLGGBDxMjUtHzCNqRySnZ0LqjOM=s68-c-k-c0x00ffffff-no-rw?host=yt3.ggpht.com',\n",
       "   'uploadedDate': '6 years ago',\n",
       "   'shortDescription': None,\n",
       "   'duration': 262,\n",
       "   'views': 38508862,\n",
       "   'uploaded': 1495821600000,\n",
       "   'uploaderVerified': True,\n",
       "   'isShort': False},\n",
       "  {'url': '/watch?v=Fd7-FybJlbs',\n",
       "   'type': 'stream',\n",
       "   'title': 'Uyire Song | Minnal Murali | Tovino Thomas | Shaan Rahman | Basil Joseph | Sophia Paul |Manu Manjith',\n",
       "   'thumbnail': 'https://pipedproxy.kavin.rocks/vi/Fd7-FybJlbs/hqdefault.jpg?sqp=-oaymwEbCKgBEF5IVfKriqkDDggBFQAAiEIYAXABwAEG&rs=AOn4CLAvia-ZFMixGEKWowaVzAxp1WRl6w&host=i.ytimg.com',\n",
       "   'uploaderName': 'Muzik247',\n",
       "   'uploaderUrl': '/channel/UChRi1dpwnsZcIo1LSwzY0Iw',\n",
       "   'uploaderAvatar': 'https://pipedproxy.kavin.rocks/vi9ISqnoFfpa1J7WQMxxs2YKkhCh2mLy4DMRh9wqOre1VZ4DdLGGBDxMjUtHzCNqRySnZ0LqjOM=s68-c-k-c0x00ffffff-no-rw?host=yt3.ggpht.com',\n",
       "   'uploadedDate': '1 year ago',\n",
       "   'shortDescription': None,\n",
       "   'duration': 330,\n",
       "   'views': 20603969,\n",
       "   'uploaded': 1653588000000,\n",
       "   'uploaderVerified': True,\n",
       "   'isShort': False},\n",
       "  {'url': '/watch?v=GKQUcaUdbLw',\n",
       "   'type': 'stream',\n",
       "   'title': 'Sneham Cherum Neram (slowed+reverbed) ‖ Om Shanthi Oshaana ‖ s𝓮𝓻𝓮𝓷𝓮𝓡𝓪𝓲𝓷',\n",
       "   'thumbnail': 'https://pipedproxy.kavin.rocks/vi/GKQUcaUdbLw/hqdefault.jpg?sqp=-oaymwE1CKgBEF5IVfKriqkDKAgBFQAAiEIYAXABwAEG8AEB-AH-CYAC0AWKAgwIABABGGUgUShYMA8=&rs=AOn4CLBMuqaDFvSmKWNEaiT1yxLSNDxoEg&host=i.ytimg.com',\n",
       "   'uploaderName': 's 𝓮 𝓻 𝓮 𝓷 𝓮',\n",
       "   'uploaderUrl': '/channel/UCkgbIq-5JDpimE6tFhT9udA',\n",
       "   'uploaderAvatar': 'https://pipedproxy.kavin.rocks/muv1HSIwMcuKAgGiTjdra8CPzMdgtPIKRGUC2fFrJ0UlEfKTom9R996-QMyfYggTH-YwzARLTQ=s68-c-k-c0x00ffffff-no-rw?host=yt3.ggpht.com',\n",
       "   'uploadedDate': '8 months ago',\n",
       "   'shortDescription': None,\n",
       "   'duration': 232,\n",
       "   'views': 47140,\n",
       "   'uploaded': 1664301600000,\n",
       "   'uploaderVerified': False,\n",
       "   'isShort': False},\n",
       "  {'url': '/watch?v=fu0RSQCFO6A',\n",
       "   'type': 'stream',\n",
       "   'title': 'Ore Nila Ore Veyil (From \"Btech\")',\n",
       "   'thumbnail': 'https://pipedproxy.kavin.rocks/vi/fu0RSQCFO6A/hqdefault.jpg?sqp=-oaymwEbCKgBEF5IVfKriqkDDggBFQAAiEIYAXABwAEG&rs=AOn4CLBE0Ua1KUn7cT8aTmSEmknyGZSxkw&host=i.ytimg.com',\n",
       "   'uploaderName': 'Nikhil Mathew - Topic',\n",
       "   'uploaderUrl': '/channel/UCcKVBoq519z8Mvli-F5TR0A',\n",
       "   'uploaderAvatar': 'https://pipedproxy.kavin.rocks/h0J1NWQuEPys6lxlZcBR2HqZSsr6cu6bWQjiy2POBVPn_PVcD91AzT0cAE7RZSjhbPGHyAb8dl0=s68-c-k-c0x00ffffff-no-rw?host=yt3.ggpht.com',\n",
       "   'uploadedDate': '4 years ago',\n",
       "   'shortDescription': None,\n",
       "   'duration': 243,\n",
       "   'views': 693066,\n",
       "   'uploaded': 1558893600000,\n",
       "   'uploaderVerified': False,\n",
       "   'isShort': False},\n",
       "  {'url': '/watch?v=UsJkhu8K1gs',\n",
       "   'type': 'stream',\n",
       "   'title': 'Aaro Nenjil Video Song with Lyrics | Godha Official | Tovino Thomas | Wamiqa Gabbi | Shaan Rahman',\n",
       "   'thumbnail': 'https://pipedproxy.kavin.rocks/vi/UsJkhu8K1gs/hqdefault.jpg?sqp=-oaymwEbCKgBEF5IVfKriqkDDggBFQAAiEIYAXABwAEG&rs=AOn4CLD3L8lc0BJ1xoXbQvSWUEP_9KZm_Q&host=i.ytimg.com',\n",
       "   'uploaderName': 'satyamvideos',\n",
       "   'uploaderUrl': '/channel/UCpJmCkjsJbqIBdvTRx2zt-w',\n",
       "   'uploaderAvatar': 'https://pipedproxy.kavin.rocks/ytc/AGIKgqNIXBgDZ8874x4z4r1XKawhN_-e7h70xiMcYObS=s68-c-k-c0x00ffffff-no-rw?host=yt3.ggpht.com',\n",
       "   'uploadedDate': '6 years ago',\n",
       "   'shortDescription': None,\n",
       "   'duration': 258,\n",
       "   'views': 35233648,\n",
       "   'uploaded': 1495821600000,\n",
       "   'uploaderVerified': True,\n",
       "   'isShort': False},\n",
       "  {'url': '/watch?v=UImrau29cu8',\n",
       "   'type': 'stream',\n",
       "   'title': 'Ranam Title Track | You Made Me Feel  | Prithviraj Sukumaran | Rahman | Jakes Bejoy | Nirmal Sahadev',\n",
       "   'thumbnail': 'https://pipedproxy.kavin.rocks/vi/UImrau29cu8/hqdefault.jpg?sqp=-oaymwEbCKgBEF5IVfKriqkDDggBFQAAiEIYAXABwAEG&rs=AOn4CLAxcoL9jn0EHzgi3L_JjGxu2UMSCw&host=i.ytimg.com',\n",
       "   'uploaderName': 'Goodwill Film Songs',\n",
       "   'uploaderUrl': '/channel/UCLQDgF725-W-SGvRgWFtuTQ',\n",
       "   'uploaderAvatar': 'https://pipedproxy.kavin.rocks/ytc/AGIKgqO-2yo31ZOWZBluagOEwhCHVPzh2tK5DPPYA_tW=s68-c-k-c0x00ffffff-no-rw?host=yt3.ggpht.com',\n",
       "   'uploadedDate': '2 years ago',\n",
       "   'shortDescription': None,\n",
       "   'duration': 302,\n",
       "   'views': 4891167,\n",
       "   'uploaded': 1622052000000,\n",
       "   'uploaderVerified': False,\n",
       "   'isShort': False},\n",
       "  {'url': '/watch?v=kgwI3nRvp3c',\n",
       "   'type': 'stream',\n",
       "   'title': 'Ee Mizhikalen- Ormayundo Ee Mukham | Vineet Sreenivasan| Namitha Pramod| Full song HD video',\n",
       "   'thumbnail': 'https://pipedproxy.kavin.rocks/vi/kgwI3nRvp3c/hqdefault.jpg?sqp=-oaymwEbCKgBEF5IVfKriqkDDggBFQAAiEIYAXABwAEG&rs=AOn4CLBotdTX5DnwAXS866ZBcThF-eZzDg&host=i.ytimg.com',\n",
       "   'uploaderName': 'Muzik247',\n",
       "   'uploaderUrl': '/channel/UChRi1dpwnsZcIo1LSwzY0Iw',\n",
       "   'uploaderAvatar': 'https://pipedproxy.kavin.rocks/vi9ISqnoFfpa1J7WQMxxs2YKkhCh2mLy4DMRh9wqOre1VZ4DdLGGBDxMjUtHzCNqRySnZ0LqjOM=s68-c-k-c0x00ffffff-no-rw?host=yt3.ggpht.com',\n",
       "   'uploadedDate': '8 years ago',\n",
       "   'shortDescription': None,\n",
       "   'duration': 219,\n",
       "   'views': 5208232,\n",
       "   'uploaded': 1432663200000,\n",
       "   'uploaderVerified': True,\n",
       "   'isShort': False},\n",
       "  {'url': '/watch?v=DXryqnCJkIQ',\n",
       "   'type': 'stream',\n",
       "   'title': 'Uyirin Nadhiye',\n",
       "   'thumbnail': 'https://pipedproxy.kavin.rocks/vi/DXryqnCJkIQ/hqdefault.jpg?sqp=-oaymwEbCKgBEF5IVfKriqkDDggBFQAAiEIYAXABwAEG&rs=AOn4CLCLmVHe9kXFsgYvq58-q2j7df0bvQ&host=i.ytimg.com',\n",
       "   'uploaderName': 'Rex Vijayan - Topic',\n",
       "   'uploaderUrl': '/channel/UC3GZI2_oy_HL-7lgyuzjebw',\n",
       "   'uploaderAvatar': 'https://pipedproxy.kavin.rocks/vkfWKhvL6pk_WZAJ47Uu8sa0sirZkj9JRmv2Qkzax7TiGpQrhCQm35mVDm34WgqjkUnuW4JNTA=s68-c-k-c0x00ffffff-no-rw?host=yt3.ggpht.com',\n",
       "   'uploadedDate': '10 months ago',\n",
       "   'shortDescription': None,\n",
       "   'duration': 271,\n",
       "   'views': 829432,\n",
       "   'uploaded': 1658944800000,\n",
       "   'uploaderVerified': False,\n",
       "   'isShort': False},\n",
       "  {'url': '/watch?v=CfTWu4Llbvo',\n",
       "   'type': 'stream',\n",
       "   'title': 'Aalolam Lyric Video | Love Action Drama Song | Nivin Pauly, Nayanthara | Shaan Rahman | Official',\n",
       "   'thumbnail': 'https://pipedproxy.kavin.rocks/vi/CfTWu4Llbvo/hqdefault.jpg?sqp=-oaymwEbCKgBEF5IVfKriqkDDggBFQAAiEIYAXABwAEG&rs=AOn4CLDqbpjlqdHS6qxrGUxhryizteQyAw&host=i.ytimg.com',\n",
       "   'uploaderName': 'Muzik247',\n",
       "   'uploaderUrl': '/channel/UChRi1dpwnsZcIo1LSwzY0Iw',\n",
       "   'uploaderAvatar': 'https://pipedproxy.kavin.rocks/vi9ISqnoFfpa1J7WQMxxs2YKkhCh2mLy4DMRh9wqOre1VZ4DdLGGBDxMjUtHzCNqRySnZ0LqjOM=s68-c-k-c0x00ffffff-no-rw?host=yt3.ggpht.com',\n",
       "   'uploadedDate': '3 years ago',\n",
       "   'shortDescription': None,\n",
       "   'duration': 270,\n",
       "   'views': 10422962,\n",
       "   'uploaded': 1590516000000,\n",
       "   'uploaderVerified': True,\n",
       "   'isShort': False},\n",
       "  {'url': '/watch?v=5php2WWuvxw',\n",
       "   'type': 'stream',\n",
       "   'title': 'Azhalinte Azhangalil | അഴലിന്റെ ആഴങ്ങളില്\\u200d | Nikhil | Ouseppachan | Ayalum Njanum Thammil Song | HD',\n",
       "   'thumbnail': 'https://pipedproxy.kavin.rocks/vi/5php2WWuvxw/hqdefault.jpg?sqp=-oaymwEbCKgBEF5IVfKriqkDDggBFQAAiEIYAXABwAEG&rs=AOn4CLAvSDKsLpdeNCCj3WJmWT3PE20Ryg&host=i.ytimg.com',\n",
       "   'uploaderName': 'East Coast',\n",
       "   'uploaderUrl': '/channel/UC7wr_pLs8KVXkkXWZxHLR0A',\n",
       "   'uploaderAvatar': 'https://pipedproxy.kavin.rocks/ytc/AGIKgqPernK_DwCSTWjK3UTGOchoZQ8Kbbn9Xm7It9IAOg=s68-c-k-c0x00ffffff-no-rw?host=yt3.ggpht.com',\n",
       "   'uploadedDate': '1 year ago',\n",
       "   'shortDescription': None,\n",
       "   'duration': 340,\n",
       "   'views': 3164745,\n",
       "   'uploaded': 1653588000000,\n",
       "   'uploaderVerified': True,\n",
       "   'isShort': False},\n",
       "  {'url': '/watch?v=xNELQy12x78',\n",
       "   'type': 'stream',\n",
       "   'title': 'Mounam Chorum Neram',\n",
       "   'thumbnail': 'https://pipedproxy.kavin.rocks/vi/xNELQy12x78/hqdefault.jpg?sqp=-oaymwEbCKgBEF5IVfKriqkDDggBFQAAiEIYAXABwAEG&rs=AOn4CLB4yKNx_UYFRLNONQ6wqNtmx2y1NQ&host=i.ytimg.com',\n",
       "   'uploaderName': 'Rinu Razak - Topic',\n",
       "   'uploaderUrl': '/channel/UC5ALt2DnPSg2qA0PhvFCEBw',\n",
       "   'uploaderAvatar': 'https://pipedproxy.kavin.rocks/XqkP2OW-_zc21G8UHHicxs_a-e5iVvJzhvXE_ztMqXeVd1KSACPjrgCnW9y13SRm0AtQHH0K=s68-c-k-c0x00ffffff-no-rw?host=yt3.ggpht.com',\n",
       "   'uploadedDate': '4 years ago',\n",
       "   'shortDescription': None,\n",
       "   'duration': 192,\n",
       "   'views': 152993,\n",
       "   'uploaded': 1558893600000,\n",
       "   'uploaderVerified': False,\n",
       "   'isShort': False},\n",
       "  {'url': '/watch?v=oargaN_6gdA',\n",
       "   'type': 'stream',\n",
       "   'title': 'Shikkari Shambhu | Mazha Song Video | Kunchacko Boban, Shivada | Sreejith Edavana | Official',\n",
       "   'thumbnail': 'https://pipedproxy.kavin.rocks/vi/oargaN_6gdA/hqdefault.jpg?sqp=-oaymwEbCKgBEF5IVfKriqkDDggBFQAAiEIYAXABwAEG&rs=AOn4CLC6ksKqdZK-0XM2fOU8VhVQHU8uDw&host=i.ytimg.com',\n",
       "   'uploaderName': 'Muzik247',\n",
       "   'uploaderUrl': '/channel/UChRi1dpwnsZcIo1LSwzY0Iw',\n",
       "   'uploaderAvatar': 'https://pipedproxy.kavin.rocks/vi9ISqnoFfpa1J7WQMxxs2YKkhCh2mLy4DMRh9wqOre1VZ4DdLGGBDxMjUtHzCNqRySnZ0LqjOM=s68-c-k-c0x00ffffff-no-rw?host=yt3.ggpht.com',\n",
       "   'uploadedDate': '5 years ago',\n",
       "   'shortDescription': None,\n",
       "   'duration': 244,\n",
       "   'views': 7211301,\n",
       "   'uploaded': 1527357600000,\n",
       "   'uploaderVerified': True,\n",
       "   'isShort': False},\n",
       "  {'url': '/watch?v=DFZ6eram8Fo',\n",
       "   'type': 'stream',\n",
       "   'title': 'Official : Sneham Cherum Neram Video Song | Ohm Shanthi Oshaana | Nivin Pauly, Nazriya Nazim',\n",
       "   'thumbnail': 'https://pipedproxy.kavin.rocks/vi/DFZ6eram8Fo/hqdefault.jpg?sqp=-oaymwEbCKgBEF5IVfKriqkDDggBFQAAiEIYAXABwAEG&rs=AOn4CLCdbrLTcanS_uPy8gtEcEZfVpMddQ&host=i.ytimg.com',\n",
       "   'uploaderName': 'Think Music India',\n",
       "   'uploaderUrl': '/channel/UCLbdVvreihwZRL6kwuEUYsA',\n",
       "   'uploaderAvatar': 'https://pipedproxy.kavin.rocks/ytc/AGIKgqNvxNlyYDiiSPytCVFFFU9CGgznUJVq28RwjPRoFQ=s68-c-k-c0x00ffffff-no-rw?host=yt3.ggpht.com',\n",
       "   'uploadedDate': '9 years ago',\n",
       "   'shortDescription': None,\n",
       "   'duration': 189,\n",
       "   'views': 11913147,\n",
       "   'uploaded': 1401127200000,\n",
       "   'uploaderVerified': True,\n",
       "   'isShort': False},\n",
       "  {'url': '/watch?v=Yuy3BI6wmPU',\n",
       "   'type': 'stream',\n",
       "   'title': 'Etho Mazhayil Video Song | Vijay Superum Pournamiyum | Asif Ali | Aishwarya| Jis Joy | Prince George',\n",
       "   'thumbnail': 'https://pipedproxy.kavin.rocks/vi/Yuy3BI6wmPU/hqdefault.jpg?sqp=-oaymwEbCKgBEF5IVfKriqkDDggBFQAAiEIYAXABwAEG&rs=AOn4CLArFfEz6XePUMZV0hGSaJJPFJmdvA&host=i.ytimg.com',\n",
       "   'uploaderName': 'Goodwill Film Songs',\n",
       "   'uploaderUrl': '/channel/UCLQDgF725-W-SGvRgWFtuTQ',\n",
       "   'uploaderAvatar': 'https://pipedproxy.kavin.rocks/ytc/AGIKgqO-2yo31ZOWZBluagOEwhCHVPzh2tK5DPPYA_tW=s68-c-k-c0x00ffffff-no-rw?host=yt3.ggpht.com',\n",
       "   'uploadedDate': '3 years ago',\n",
       "   'shortDescription': None,\n",
       "   'duration': 187,\n",
       "   'views': 4804838,\n",
       "   'uploaded': 1590516000000,\n",
       "   'uploaderVerified': False,\n",
       "   'isShort': False},\n",
       "  {'url': '/watch?v=6LD30ChPsSs',\n",
       "   'type': 'stream',\n",
       "   'title': '96 Songs | The Life of Ram Video Song | Vijay Sethupathi, Trisha | Govind Vasantha | C. Prem Kumar',\n",
       "   'thumbnail': 'https://pipedproxy.kavin.rocks/vi/6LD30ChPsSs/hqdefault.jpg?sqp=-oaymwEbCKgBEF5IVfKriqkDDggBFQAAiEIYAXABwAEG&rs=AOn4CLCNHccJ2U1tuxfisFnRkSOX_6IoKQ&host=i.ytimg.com',\n",
       "   'uploaderName': 'Think Music India',\n",
       "   'uploaderUrl': '/channel/UCLbdVvreihwZRL6kwuEUYsA',\n",
       "   'uploaderAvatar': 'https://pipedproxy.kavin.rocks/ytc/AGIKgqNvxNlyYDiiSPytCVFFFU9CGgznUJVq28RwjPRoFQ=s68-c-k-c0x00ffffff-no-rw?host=yt3.ggpht.com',\n",
       "   'uploadedDate': '4 years ago',\n",
       "   'shortDescription': None,\n",
       "   'duration': 372,\n",
       "   'views': 125704933,\n",
       "   'uploaded': 1558893600000,\n",
       "   'uploaderVerified': True,\n",
       "   'isShort': False},\n",
       "  {'url': '/watch?v=JJQ-HNlwpYM',\n",
       "   'type': 'stream',\n",
       "   'title': 'Akale (From \"9 (Nine) Malayalam\")',\n",
       "   'thumbnail': 'https://pipedproxy.kavin.rocks/vi/JJQ-HNlwpYM/hqdefault.jpg?sqp=-oaymwEbCKgBEF5IVfKriqkDDggBFQAAiEIYAXABwAEG&rs=AOn4CLCbH9ADszooH-hzOTOLjJ5eJ7RPtg&host=i.ytimg.com',\n",
       "   'uploaderName': 'Harib Hussain - Topic',\n",
       "   'uploaderUrl': '/channel/UC3MjvPesuxNPrv-pYOucDZA',\n",
       "   'uploaderAvatar': 'https://pipedproxy.kavin.rocks/nYICnNpoUK0a8Sjz7RJnAxYnH1v-Sd8WfNn61uRYQ080yaAo6eTPzTFIntqXIn4FOp7glxsN=s68-c-k-c0x00ffffff-no-rw?host=yt3.ggpht.com',\n",
       "   'uploadedDate': '4 years ago',\n",
       "   'shortDescription': None,\n",
       "   'duration': 248,\n",
       "   'views': 4862789,\n",
       "   'uploaded': 1558893600000,\n",
       "   'uploaderVerified': False,\n",
       "   'isShort': False},\n",
       "  {'url': '/watch?v=cK63XuJMPvo',\n",
       "   'type': 'stream',\n",
       "   'title': 'Aravindante Athidhikal | Rasathi Song Video | Sreenivasan, Vineeth Sreenivasan | Shaan Rahman | HD',\n",
       "   'thumbnail': 'https://pipedproxy.kavin.rocks/vi/cK63XuJMPvo/hqdefault.jpg?sqp=-oaymwEbCKgBEF5IVfKriqkDDggBFQAAiEIYAXABwAEG&rs=AOn4CLA8X1CZOVYh13Z3r5A4LFdCjVxLNA&host=i.ytimg.com',\n",
       "   'uploaderName': 'Muzik247',\n",
       "   'uploaderUrl': '/channel/UChRi1dpwnsZcIo1LSwzY0Iw',\n",
       "   'uploaderAvatar': 'https://pipedproxy.kavin.rocks/vi9ISqnoFfpa1J7WQMxxs2YKkhCh2mLy4DMRh9wqOre1VZ4DdLGGBDxMjUtHzCNqRySnZ0LqjOM=s68-c-k-c0x00ffffff-no-rw?host=yt3.ggpht.com',\n",
       "   'uploadedDate': '5 years ago',\n",
       "   'shortDescription': None,\n",
       "   'duration': 292,\n",
       "   'views': 14265069,\n",
       "   'uploaded': 1527357600000,\n",
       "   'uploaderVerified': True,\n",
       "   'isShort': False},\n",
       "  {'url': '/watch?v=P93HV8b9vxs',\n",
       "   'type': 'stream',\n",
       "   'title': 'Kaana Kuyile',\n",
       "   'thumbnail': 'https://pipedproxy.kavin.rocks/vi/P93HV8b9vxs/hqdefault.jpg?sqp=-oaymwEbCKgBEF5IVfKriqkDDggBFQAAiEIYAXABwAEG&rs=AOn4CLBcruUNUV8aGdLD4qp5JRSTZH71xQ&host=i.ytimg.com',\n",
       "   'uploaderName': 'Deepak Dev - Topic',\n",
       "   'uploaderUrl': '/channel/UCLZpxXOlkwiHzzHdfdoj8ng',\n",
       "   'uploaderAvatar': 'https://pipedproxy.kavin.rocks/2-3IX4DV7aS8u1MnP92jauTvS_q4qxGlv5kEC2pNbtJJjRlJ0zUVsso4Js1_bb6Xk33-YD3R=s68-c-k-c0x00ffffff-no-rw?host=yt3.ggpht.com',\n",
       "   'uploadedDate': '1 year ago',\n",
       "   'shortDescription': None,\n",
       "   'duration': 344,\n",
       "   'views': 2187144,\n",
       "   'uploaded': 1653588000000,\n",
       "   'uploaderVerified': False,\n",
       "   'isShort': False}],\n",
       " 'subtitles': [],\n",
       " 'livestream': False,\n",
       " 'proxyUrl': 'https://pipedproxy-cwl.kavin.rocks',\n",
       " 'chapters': [],\n",
       " 'previewFrames': [{'urls': ['https://pipedproxy.kavin.rocks/sb/QQTSs0qeHyw/storyboard3_L1/M0.jpg?sqp=-oaymwENSDfyq4qpAwVwAcABBqLzl_8DBgjiiIvwBQ==&sigh=rs$AOn4CLAl7G7WusSxWzgKk-jW4R08zBaVMQ&host=i.ytimg.com',\n",
       "    'https://pipedproxy.kavin.rocks/sb/QQTSs0qeHyw/storyboard3_L1/M1.jpg?sqp=-oaymwENSDfyq4qpAwVwAcABBqLzl_8DBgjiiIvwBQ==&sigh=rs$AOn4CLAl7G7WusSxWzgKk-jW4R08zBaVMQ&host=i.ytimg.com'],\n",
       "   'frameWidth': 80,\n",
       "   'frameHeight': 45,\n",
       "   'totalCount': 146,\n",
       "   'durationPerFrame': 2000,\n",
       "   'framesPerPageX': 10,\n",
       "   'framesPerPageY': 10},\n",
       "  {'urls': ['https://pipedproxy.kavin.rocks/sb/QQTSs0qeHyw/storyboard3_L2/M0.jpg?sqp=-oaymwENSDfyq4qpAwVwAcABBqLzl_8DBgjiiIvwBQ==&sigh=rs$AOn4CLB-Jydmfq0KSTJHefSBPYZTk3XriQ&host=i.ytimg.com',\n",
       "    'https://pipedproxy.kavin.rocks/sb/QQTSs0qeHyw/storyboard3_L2/M1.jpg?sqp=-oaymwENSDfyq4qpAwVwAcABBqLzl_8DBgjiiIvwBQ==&sigh=rs$AOn4CLB-Jydmfq0KSTJHefSBPYZTk3XriQ&host=i.ytimg.com',\n",
       "    'https://pipedproxy.kavin.rocks/sb/QQTSs0qeHyw/storyboard3_L2/M2.jpg?sqp=-oaymwENSDfyq4qpAwVwAcABBqLzl_8DBgjiiIvwBQ==&sigh=rs$AOn4CLB-Jydmfq0KSTJHefSBPYZTk3XriQ&host=i.ytimg.com',\n",
       "    'https://pipedproxy.kavin.rocks/sb/QQTSs0qeHyw/storyboard3_L2/M3.jpg?sqp=-oaymwENSDfyq4qpAwVwAcABBqLzl_8DBgjiiIvwBQ==&sigh=rs$AOn4CLB-Jydmfq0KSTJHefSBPYZTk3XriQ&host=i.ytimg.com',\n",
       "    'https://pipedproxy.kavin.rocks/sb/QQTSs0qeHyw/storyboard3_L2/M4.jpg?sqp=-oaymwENSDfyq4qpAwVwAcABBqLzl_8DBgjiiIvwBQ==&sigh=rs$AOn4CLB-Jydmfq0KSTJHefSBPYZTk3XriQ&host=i.ytimg.com',\n",
       "    'https://pipedproxy.kavin.rocks/sb/QQTSs0qeHyw/storyboard3_L2/M5.jpg?sqp=-oaymwENSDfyq4qpAwVwAcABBqLzl_8DBgjiiIvwBQ==&sigh=rs$AOn4CLB-Jydmfq0KSTJHefSBPYZTk3XriQ&host=i.ytimg.com'],\n",
       "   'frameWidth': 160,\n",
       "   'frameHeight': 90,\n",
       "   'totalCount': 146,\n",
       "   'durationPerFrame': 2000,\n",
       "   'framesPerPageX': 5,\n",
       "   'framesPerPageY': 5}]}"
      ]
     },
     "execution_count": 24,
     "metadata": {},
     "output_type": "execute_result"
    }
   ],
   "source": [
    "respJ = resp.json()\n",
    "respJ"
   ]
  },
  {
   "cell_type": "code",
   "execution_count": null,
   "metadata": {},
   "outputs": [],
   "source": [
    "audoJ = respJ['audioStreams'][0]"
   ]
  },
  {
   "cell_type": "code",
   "execution_count": null,
   "metadata": {},
   "outputs": [],
   "source": [
    "audoJ['url']\n",
    "\n",
    "audio['url'] = audoJ['url']"
   ]
  },
  {
   "cell_type": "code",
   "execution_count": 27,
   "metadata": {},
   "outputs": [
    {
     "data": {
      "text/plain": [
       "int"
      ]
     },
     "execution_count": 27,
     "metadata": {},
     "output_type": "execute_result"
    }
   ],
   "source": [
    "type(respJ['duration'])"
   ]
  }
 ],
 "metadata": {
  "kernelspec": {
   "display_name": "pyplay",
   "language": "python",
   "name": "python3"
  },
  "language_info": {
   "codemirror_mode": {
    "name": "ipython",
    "version": 3
   },
   "file_extension": ".py",
   "mimetype": "text/x-python",
   "name": "python",
   "nbconvert_exporter": "python",
   "pygments_lexer": "ipython3",
   "version": "3.8.16"
  },
  "orig_nbformat": 4
 },
 "nbformat": 4,
 "nbformat_minor": 2
}
